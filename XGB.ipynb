{
 "cells": [
  {
   "cell_type": "code",
   "execution_count": 170,
   "metadata": {
    "_cell_guid": "b1076dfc-b9ad-4769-8c92-a6c4dae69d19",
    "_uuid": "8f2839f25d086af736a60e9eeb907d3b93b6e0e5",
    "execution": {
     "iopub.execute_input": "2025-01-12T21:20:46.873977Z",
     "iopub.status.busy": "2025-01-12T21:20:46.873568Z",
     "iopub.status.idle": "2025-01-12T21:20:46.915493Z",
     "shell.execute_reply": "2025-01-12T21:20:46.914133Z",
     "shell.execute_reply.started": "2025-01-12T21:20:46.873931Z"
    },
    "trusted": true
   },
   "outputs": [],
   "source": [
    "\n",
    "import numpy as np # linear algebra\n",
    "import pandas as pd # data processing, CSV file I/O (e.g. pd.read_csv)\n",
    "\n",
    "import os\n",
    "for dirname, _, filenames in os.walk('/kaggle/input'):\n",
    "    for filename in filenames:\n",
    "        print(os.path.join(dirname, filename))\n"
   ]
  },
  {
   "cell_type": "code",
   "execution_count": 171,
   "metadata": {
    "execution": {
     "iopub.execute_input": "2025-01-12T21:20:46.919016Z",
     "iopub.status.busy": "2025-01-12T21:20:46.918454Z",
     "iopub.status.idle": "2025-01-12T21:24:42.967519Z",
     "shell.execute_reply": "2025-01-12T21:24:42.960937Z",
     "shell.execute_reply.started": "2025-01-12T21:20:46.918968Z"
    },
    "trusted": true
   },
   "outputs": [],
   "source": [
    "import matplotlib.pyplot as plt\n",
    "from sklearn.pipeline import make_pipeline\n",
    "from sklearn.preprocessing import StandardScaler\n",
    "from sklearn.linear_model import LinearRegression\n",
    "from xgboost import XGBRegressor\n",
    "from sklearn.metrics import mean_squared_error\n",
    "# !pip install pmdarima\n",
    "from pmdarima.arima import auto_arima\n",
    "import numpy as np\n",
    "from sklearn.preprocessing import MinMaxScaler\n",
    "from tensorflow.keras.models import Sequential\n",
    "from tensorflow.keras.layers import LSTM , Dense"
   ]
  },
  {
   "cell_type": "code",
   "execution_count": 172,
   "metadata": {
    "execution": {
     "iopub.status.busy": "2025-01-12T21:24:42.968725Z",
     "iopub.status.idle": "2025-01-12T21:24:42.969178Z",
     "shell.execute_reply": "2025-01-12T21:24:42.969004Z",
     "shell.execute_reply.started": "2025-01-12T21:24:42.968983Z"
    },
    "trusted": true
   },
   "outputs": [],
   "source": [
    "df = pd.read_csv(\"DataChar.csv\")"
   ]
  },
  {
   "cell_type": "code",
   "execution_count": 173,
   "metadata": {
    "execution": {
     "iopub.status.busy": "2025-01-12T21:24:42.971513Z",
     "iopub.status.idle": "2025-01-12T21:24:42.972080Z",
     "shell.execute_reply": "2025-01-12T21:24:42.971864Z",
     "shell.execute_reply.started": "2025-01-12T21:24:42.971843Z"
    },
    "trusted": true
   },
   "outputs": [
    {
     "name": "stdout",
     "output_type": "stream",
     "text": [
      "<class 'pandas.core.frame.DataFrame'>\n",
      "RangeIndex: 503 entries, 0 to 502\n",
      "Data columns (total 2 columns):\n",
      " #   Column  Non-Null Count  Dtype  \n",
      "---  ------  --------------  -----  \n",
      " 0   Date    503 non-null    object \n",
      " 1   Value   503 non-null    float64\n",
      "dtypes: float64(1), object(1)\n",
      "memory usage: 8.0+ KB\n"
     ]
    }
   ],
   "source": [
    "df.info()"
   ]
  },
  {
   "cell_type": "code",
   "execution_count": 174,
   "metadata": {
    "execution": {
     "iopub.status.busy": "2025-01-12T21:24:42.974396Z",
     "iopub.status.idle": "2025-01-12T21:24:42.974982Z",
     "shell.execute_reply": "2025-01-12T21:24:42.974703Z",
     "shell.execute_reply.started": "2025-01-12T21:24:42.974680Z"
    },
    "trusted": true
   },
   "outputs": [
    {
     "data": {
      "text/html": [
       "<div>\n",
       "<style scoped>\n",
       "    .dataframe tbody tr th:only-of-type {\n",
       "        vertical-align: middle;\n",
       "    }\n",
       "\n",
       "    .dataframe tbody tr th {\n",
       "        vertical-align: top;\n",
       "    }\n",
       "\n",
       "    .dataframe thead th {\n",
       "        text-align: right;\n",
       "    }\n",
       "</style>\n",
       "<table border=\"1\" class=\"dataframe\">\n",
       "  <thead>\n",
       "    <tr style=\"text-align: right;\">\n",
       "      <th></th>\n",
       "      <th>Date</th>\n",
       "      <th>Value</th>\n",
       "    </tr>\n",
       "  </thead>\n",
       "  <tbody>\n",
       "    <tr>\n",
       "      <th>0</th>\n",
       "      <td>1980-01-01</td>\n",
       "      <td>0.061364</td>\n",
       "    </tr>\n",
       "    <tr>\n",
       "      <th>1</th>\n",
       "      <td>1980-02-01</td>\n",
       "      <td>-0.060004</td>\n",
       "    </tr>\n",
       "    <tr>\n",
       "      <th>2</th>\n",
       "      <td>1980-03-01</td>\n",
       "      <td>-0.074088</td>\n",
       "    </tr>\n",
       "    <tr>\n",
       "      <th>3</th>\n",
       "      <td>1980-04-01</td>\n",
       "      <td>0.152491</td>\n",
       "    </tr>\n",
       "    <tr>\n",
       "      <th>4</th>\n",
       "      <td>1980-05-01</td>\n",
       "      <td>0.203524</td>\n",
       "    </tr>\n",
       "  </tbody>\n",
       "</table>\n",
       "</div>"
      ],
      "text/plain": [
       "         Date     Value\n",
       "0  1980-01-01  0.061364\n",
       "1  1980-02-01 -0.060004\n",
       "2  1980-03-01 -0.074088\n",
       "3  1980-04-01  0.152491\n",
       "4  1980-05-01  0.203524"
      ]
     },
     "execution_count": 174,
     "metadata": {},
     "output_type": "execute_result"
    }
   ],
   "source": [
    "df.head()"
   ]
  },
  {
   "cell_type": "code",
   "execution_count": 175,
   "metadata": {
    "execution": {
     "iopub.status.busy": "2025-01-12T21:24:42.977175Z",
     "iopub.status.idle": "2025-01-12T21:24:42.977723Z",
     "shell.execute_reply": "2025-01-12T21:24:42.977479Z",
     "shell.execute_reply.started": "2025-01-12T21:24:42.977445Z"
    },
    "trusted": true
   },
   "outputs": [
    {
     "data": {
      "text/html": [
       "<div>\n",
       "<style scoped>\n",
       "    .dataframe tbody tr th:only-of-type {\n",
       "        vertical-align: middle;\n",
       "    }\n",
       "\n",
       "    .dataframe tbody tr th {\n",
       "        vertical-align: top;\n",
       "    }\n",
       "\n",
       "    .dataframe thead th {\n",
       "        text-align: right;\n",
       "    }\n",
       "</style>\n",
       "<table border=\"1\" class=\"dataframe\">\n",
       "  <thead>\n",
       "    <tr style=\"text-align: right;\">\n",
       "      <th></th>\n",
       "      <th>Date</th>\n",
       "      <th>Value</th>\n",
       "    </tr>\n",
       "  </thead>\n",
       "  <tbody>\n",
       "    <tr>\n",
       "      <th>498</th>\n",
       "      <td>2021-07-01</td>\n",
       "      <td>0.998214</td>\n",
       "    </tr>\n",
       "    <tr>\n",
       "      <th>499</th>\n",
       "      <td>2021-08-01</td>\n",
       "      <td>1.164914</td>\n",
       "    </tr>\n",
       "    <tr>\n",
       "      <th>500</th>\n",
       "      <td>2021-09-01</td>\n",
       "      <td>0.845665</td>\n",
       "    </tr>\n",
       "    <tr>\n",
       "      <th>501</th>\n",
       "      <td>2021-10-01</td>\n",
       "      <td>0.716998</td>\n",
       "    </tr>\n",
       "    <tr>\n",
       "      <th>502</th>\n",
       "      <td>2021-11-01</td>\n",
       "      <td>0.528394</td>\n",
       "    </tr>\n",
       "  </tbody>\n",
       "</table>\n",
       "</div>"
      ],
      "text/plain": [
       "           Date     Value\n",
       "498  2021-07-01  0.998214\n",
       "499  2021-08-01  1.164914\n",
       "500  2021-09-01  0.845665\n",
       "501  2021-10-01  0.716998\n",
       "502  2021-11-01  0.528394"
      ]
     },
     "execution_count": 175,
     "metadata": {},
     "output_type": "execute_result"
    }
   ],
   "source": [
    "df.tail()"
   ]
  },
  {
   "cell_type": "code",
   "execution_count": 176,
   "metadata": {
    "execution": {
     "iopub.status.busy": "2025-01-12T21:24:42.979217Z",
     "iopub.status.idle": "2025-01-12T21:24:42.979739Z",
     "shell.execute_reply": "2025-01-12T21:24:42.979506Z",
     "shell.execute_reply.started": "2025-01-12T21:24:42.979482Z"
    },
    "trusted": true
   },
   "outputs": [],
   "source": [
    "df['Date'] = pd.to_datetime(df['Date'])\n",
    "df.set_index(\"Date\" , inplace = True)"
   ]
  },
  {
   "cell_type": "code",
   "execution_count": 177,
   "metadata": {
    "execution": {
     "iopub.status.busy": "2025-01-12T21:24:42.982565Z",
     "iopub.status.idle": "2025-01-12T21:24:42.983121Z",
     "shell.execute_reply": "2025-01-12T21:24:42.982857Z",
     "shell.execute_reply.started": "2025-01-12T21:24:42.982834Z"
    },
    "trusted": true
   },
   "outputs": [
    {
     "data": {
      "text/html": [
       "<div>\n",
       "<style scoped>\n",
       "    .dataframe tbody tr th:only-of-type {\n",
       "        vertical-align: middle;\n",
       "    }\n",
       "\n",
       "    .dataframe tbody tr th {\n",
       "        vertical-align: top;\n",
       "    }\n",
       "\n",
       "    .dataframe thead th {\n",
       "        text-align: right;\n",
       "    }\n",
       "</style>\n",
       "<table border=\"1\" class=\"dataframe\">\n",
       "  <thead>\n",
       "    <tr style=\"text-align: right;\">\n",
       "      <th></th>\n",
       "      <th>Value</th>\n",
       "    </tr>\n",
       "    <tr>\n",
       "      <th>Date</th>\n",
       "      <th></th>\n",
       "    </tr>\n",
       "  </thead>\n",
       "  <tbody>\n",
       "    <tr>\n",
       "      <th>1980-01-01</th>\n",
       "      <td>0.061364</td>\n",
       "    </tr>\n",
       "    <tr>\n",
       "      <th>1980-02-01</th>\n",
       "      <td>-0.060004</td>\n",
       "    </tr>\n",
       "    <tr>\n",
       "      <th>1980-03-01</th>\n",
       "      <td>-0.074088</td>\n",
       "    </tr>\n",
       "    <tr>\n",
       "      <th>1980-04-01</th>\n",
       "      <td>0.152491</td>\n",
       "    </tr>\n",
       "    <tr>\n",
       "      <th>1980-05-01</th>\n",
       "      <td>0.203524</td>\n",
       "    </tr>\n",
       "  </tbody>\n",
       "</table>\n",
       "</div>"
      ],
      "text/plain": [
       "               Value\n",
       "Date                \n",
       "1980-01-01  0.061364\n",
       "1980-02-01 -0.060004\n",
       "1980-03-01 -0.074088\n",
       "1980-04-01  0.152491\n",
       "1980-05-01  0.203524"
      ]
     },
     "execution_count": 177,
     "metadata": {},
     "output_type": "execute_result"
    }
   ],
   "source": [
    "df.head()"
   ]
  },
  {
   "cell_type": "code",
   "execution_count": 178,
   "metadata": {
    "execution": {
     "iopub.status.busy": "2025-01-12T21:24:42.985667Z",
     "iopub.status.idle": "2025-01-12T21:24:42.986171Z",
     "shell.execute_reply": "2025-01-12T21:24:42.985991Z",
     "shell.execute_reply.started": "2025-01-12T21:24:42.985971Z"
    },
    "trusted": true
   },
   "outputs": [],
   "source": [
    "# Make the data have equal spacing steps\n",
    "df = df[\"Value\"].resample(\"1D\").mean().fillna(method = \"ffill\").to_frame()\n",
    "dates = df.index"
   ]
  },
  {
   "cell_type": "code",
   "execution_count": 179,
   "metadata": {
    "execution": {
     "iopub.status.busy": "2025-01-12T21:24:42.989450Z",
     "iopub.status.idle": "2025-01-12T21:24:42.989962Z",
     "shell.execute_reply": "2025-01-12T21:24:42.989743Z",
     "shell.execute_reply.started": "2025-01-12T21:24:42.989723Z"
    },
    "trusted": true
   },
   "outputs": [
    {
     "data": {
      "text/plain": [
       "Value    1.675195\n",
       "Name: 2013-06-20 00:00:00, dtype: float64"
      ]
     },
     "execution_count": 179,
     "metadata": {},
     "output_type": "execute_result"
    }
   ],
   "source": [
    "cut_off = int(len(df) * 0.8)\n",
    "df.iloc[cut_off]"
   ]
  },
  {
   "cell_type": "code",
   "execution_count": 180,
   "metadata": {
    "execution": {
     "iopub.status.busy": "2025-01-12T21:24:42.991610Z",
     "iopub.status.idle": "2025-01-12T21:24:42.992274Z",
     "shell.execute_reply": "2025-01-12T21:24:42.991997Z",
     "shell.execute_reply.started": "2025-01-12T21:24:42.991969Z"
    },
    "trusted": true
   },
   "outputs": [
    {
     "data": {
      "image/png": "[encoded data removed]",
      "text/plain": [
       "<Figure size 640x480 with 1 Axes>"
      ]
     },
     "metadata": {},
     "output_type": "display_data"
    }
   ],
   "source": [
    "plt.plot(df.index[:cut_off] , df.iloc[:cut_off][\"Value\"] , color='blue', label='X_train')\n",
    "plt.plot(df.index[cut_off:] , df.iloc[cut_off:][\"Value\"] , color='orange', label='X_test')\n",
    "plt.xlabel('Time')\n",
    "plt.ylabel('Data')\n",
    "plt.title('X_train and X_test')\n",
    "plt.legend()\n",
    "plt.show()"
   ]
  },
  {
   "cell_type": "code",
   "execution_count": 181,
   "metadata": {
    "execution": {
     "iopub.status.busy": "2025-01-12T21:24:42.994118Z",
     "iopub.status.idle": "2025-01-12T21:24:42.994724Z",
     "shell.execute_reply": "2025-01-12T21:24:42.994408Z",
     "shell.execute_reply.started": "2025-01-12T21:24:42.994384Z"
    },
    "trusted": true
   },
   "outputs": [],
   "source": [
    "def Create_Features(df):\n",
    "    \"\"\"\n",
    "        Create some features from the date of the data\n",
    "    \"\"\"\n",
    "    df['Year'] = df.index.year\n",
    "    df['Month'] = df.index.month\n",
    "    df['Day'] = df.index.day\n",
    "    df['DayOfWeek'] = df.index.dayofweek\n",
    "    df['DayOfYear'] = df.index.dayofyear\n",
    "    df['Hour'] = df.index.hour\n",
    "    df['Minute'] = df.index.minute\n",
    "    df['Second'] = df.index.second\n",
    "    df['Quarter'] = df.index.quarter\n",
    "    df['IsLeapYear'] = df.index.is_leap_year\n",
    "    df['IsLeapYear'] = df[\"IsLeapYear\"].astype(int)\n",
    "    return df"
   ]
  },
  {
   "cell_type": "code",
   "execution_count": 182,
   "metadata": {
    "execution": {
     "iopub.status.busy": "2025-01-12T21:24:42.996434Z",
     "iopub.status.idle": "2025-01-12T21:24:42.997000Z",
     "shell.execute_reply": "2025-01-12T21:24:42.996724Z",
     "shell.execute_reply.started": "2025-01-12T21:24:42.996700Z"
    },
    "trusted": true
   },
   "outputs": [],
   "source": [
    "df = Create_Features(df)"
   ]
  },
  {
   "cell_type": "code",
   "execution_count": 183,
   "metadata": {
    "execution": {
     "iopub.status.busy": "2025-01-12T21:24:42.998293Z",
     "iopub.status.idle": "2025-01-12T21:24:42.998808Z",
     "shell.execute_reply": "2025-01-12T21:24:42.998576Z",
     "shell.execute_reply.started": "2025-01-12T21:24:42.998553Z"
    },
    "trusted": true
   },
   "outputs": [
    {
     "data": {
      "text/html": [
       "<div>\n",
       "<style scoped>\n",
       "    .dataframe tbody tr th:only-of-type {\n",
       "        vertical-align: middle;\n",
       "    }\n",
       "\n",
       "    .dataframe tbody tr th {\n",
       "        vertical-align: top;\n",
       "    }\n",
       "\n",
       "    .dataframe thead th {\n",
       "        text-align: right;\n",
       "    }\n",
       "</style>\n",
       "<table border=\"1\" class=\"dataframe\">\n",
       "  <thead>\n",
       "    <tr style=\"text-align: right;\">\n",
       "      <th></th>\n",
       "      <th>Value</th>\n",
       "      <th>Year</th>\n",
       "      <th>Month</th>\n",
       "      <th>Day</th>\n",
       "      <th>DayOfWeek</th>\n",
       "      <th>DayOfYear</th>\n",
       "      <th>Hour</th>\n",
       "      <th>Minute</th>\n",
       "      <th>Second</th>\n",
       "      <th>Quarter</th>\n",
       "      <th>IsLeapYear</th>\n",
       "    </tr>\n",
       "    <tr>\n",
       "      <th>Date</th>\n",
       "      <th></th>\n",
       "      <th></th>\n",
       "      <th></th>\n",
       "      <th></th>\n",
       "      <th></th>\n",
       "      <th></th>\n",
       "      <th></th>\n",
       "      <th></th>\n",
       "      <th></th>\n",
       "      <th></th>\n",
       "      <th></th>\n",
       "    </tr>\n",
       "  </thead>\n",
       "  <tbody>\n",
       "    <tr>\n",
       "      <th>1980-01-01</th>\n",
       "      <td>0.061364</td>\n",
       "      <td>1980</td>\n",
       "      <td>1</td>\n",
       "      <td>1</td>\n",
       "      <td>1</td>\n",
       "      <td>1</td>\n",
       "      <td>0</td>\n",
       "      <td>0</td>\n",
       "      <td>0</td>\n",
       "      <td>1</td>\n",
       "      <td>1</td>\n",
       "    </tr>\n",
       "    <tr>\n",
       "      <th>1980-01-02</th>\n",
       "      <td>0.061364</td>\n",
       "      <td>1980</td>\n",
       "      <td>1</td>\n",
       "      <td>2</td>\n",
       "      <td>2</td>\n",
       "      <td>2</td>\n",
       "      <td>0</td>\n",
       "      <td>0</td>\n",
       "      <td>0</td>\n",
       "      <td>1</td>\n",
       "      <td>1</td>\n",
       "    </tr>\n",
       "    <tr>\n",
       "      <th>1980-01-03</th>\n",
       "      <td>0.061364</td>\n",
       "      <td>1980</td>\n",
       "      <td>1</td>\n",
       "      <td>3</td>\n",
       "      <td>3</td>\n",
       "      <td>3</td>\n",
       "      <td>0</td>\n",
       "      <td>0</td>\n",
       "      <td>0</td>\n",
       "      <td>1</td>\n",
       "      <td>1</td>\n",
       "    </tr>\n",
       "    <tr>\n",
       "      <th>1980-01-04</th>\n",
       "      <td>0.061364</td>\n",
       "      <td>1980</td>\n",
       "      <td>1</td>\n",
       "      <td>4</td>\n",
       "      <td>4</td>\n",
       "      <td>4</td>\n",
       "      <td>0</td>\n",
       "      <td>0</td>\n",
       "      <td>0</td>\n",
       "      <td>1</td>\n",
       "      <td>1</td>\n",
       "    </tr>\n",
       "    <tr>\n",
       "      <th>1980-01-05</th>\n",
       "      <td>0.061364</td>\n",
       "      <td>1980</td>\n",
       "      <td>1</td>\n",
       "      <td>5</td>\n",
       "      <td>5</td>\n",
       "      <td>5</td>\n",
       "      <td>0</td>\n",
       "      <td>0</td>\n",
       "      <td>0</td>\n",
       "      <td>1</td>\n",
       "      <td>1</td>\n",
       "    </tr>\n",
       "  </tbody>\n",
       "</table>\n",
       "</div>"
      ],
      "text/plain": [
       "               Value  Year  Month  Day  DayOfWeek  DayOfYear  Hour  Minute  \\\n",
       "Date                                                                         \n",
       "1980-01-01  0.061364  1980      1    1          1          1     0       0   \n",
       "1980-01-02  0.061364  1980      1    2          2          2     0       0   \n",
       "1980-01-03  0.061364  1980      1    3          3          3     0       0   \n",
       "1980-01-04  0.061364  1980      1    4          4          4     0       0   \n",
       "1980-01-05  0.061364  1980      1    5          5          5     0       0   \n",
       "\n",
       "            Second  Quarter  IsLeapYear  \n",
       "Date                                     \n",
       "1980-01-01       0        1           1  \n",
       "1980-01-02       0        1           1  \n",
       "1980-01-03       0        1           1  \n",
       "1980-01-04       0        1           1  \n",
       "1980-01-05       0        1           1  "
      ]
     },
     "execution_count": 183,
     "metadata": {},
     "output_type": "execute_result"
    }
   ],
   "source": [
    "df.head()"
   ]
  },
  {
   "cell_type": "code",
   "execution_count": 184,
   "metadata": {
    "execution": {
     "iopub.status.busy": "2025-01-12T21:24:43.002111Z",
     "iopub.status.idle": "2025-01-12T21:24:43.002561Z",
     "shell.execute_reply": "2025-01-12T21:24:43.002378Z",
     "shell.execute_reply.started": "2025-01-12T21:24:43.002361Z"
    },
    "trusted": true
   },
   "outputs": [
    {
     "data": {
      "text/html": [
       "<div>\n",
       "<style scoped>\n",
       "    .dataframe tbody tr th:only-of-type {\n",
       "        vertical-align: middle;\n",
       "    }\n",
       "\n",
       "    .dataframe tbody tr th {\n",
       "        vertical-align: top;\n",
       "    }\n",
       "\n",
       "    .dataframe thead th {\n",
       "        text-align: right;\n",
       "    }\n",
       "</style>\n",
       "<table border=\"1\" class=\"dataframe\">\n",
       "  <thead>\n",
       "    <tr style=\"text-align: right;\">\n",
       "      <th></th>\n",
       "      <th>Value</th>\n",
       "      <th>Year</th>\n",
       "      <th>Month</th>\n",
       "      <th>Day</th>\n",
       "      <th>DayOfWeek</th>\n",
       "      <th>DayOfYear</th>\n",
       "      <th>Hour</th>\n",
       "      <th>Minute</th>\n",
       "      <th>Second</th>\n",
       "      <th>Quarter</th>\n",
       "      <th>IsLeapYear</th>\n",
       "    </tr>\n",
       "    <tr>\n",
       "      <th>Date</th>\n",
       "      <th></th>\n",
       "      <th></th>\n",
       "      <th></th>\n",
       "      <th></th>\n",
       "      <th></th>\n",
       "      <th></th>\n",
       "      <th></th>\n",
       "      <th></th>\n",
       "      <th></th>\n",
       "      <th></th>\n",
       "      <th></th>\n",
       "    </tr>\n",
       "  </thead>\n",
       "  <tbody>\n",
       "    <tr>\n",
       "      <th>1980-01-01</th>\n",
       "      <td>0.498642</td>\n",
       "      <td>1980</td>\n",
       "      <td>1</td>\n",
       "      <td>1</td>\n",
       "      <td>1</td>\n",
       "      <td>1</td>\n",
       "      <td>0</td>\n",
       "      <td>0</td>\n",
       "      <td>0</td>\n",
       "      <td>1</td>\n",
       "      <td>1</td>\n",
       "    </tr>\n",
       "    <tr>\n",
       "      <th>1980-01-02</th>\n",
       "      <td>0.498642</td>\n",
       "      <td>1980</td>\n",
       "      <td>1</td>\n",
       "      <td>2</td>\n",
       "      <td>2</td>\n",
       "      <td>2</td>\n",
       "      <td>0</td>\n",
       "      <td>0</td>\n",
       "      <td>0</td>\n",
       "      <td>1</td>\n",
       "      <td>1</td>\n",
       "    </tr>\n",
       "    <tr>\n",
       "      <th>1980-01-03</th>\n",
       "      <td>0.498642</td>\n",
       "      <td>1980</td>\n",
       "      <td>1</td>\n",
       "      <td>3</td>\n",
       "      <td>3</td>\n",
       "      <td>3</td>\n",
       "      <td>0</td>\n",
       "      <td>0</td>\n",
       "      <td>0</td>\n",
       "      <td>1</td>\n",
       "      <td>1</td>\n",
       "    </tr>\n",
       "    <tr>\n",
       "      <th>1980-01-04</th>\n",
       "      <td>0.498642</td>\n",
       "      <td>1980</td>\n",
       "      <td>1</td>\n",
       "      <td>4</td>\n",
       "      <td>4</td>\n",
       "      <td>4</td>\n",
       "      <td>0</td>\n",
       "      <td>0</td>\n",
       "      <td>0</td>\n",
       "      <td>1</td>\n",
       "      <td>1</td>\n",
       "    </tr>\n",
       "    <tr>\n",
       "      <th>1980-01-05</th>\n",
       "      <td>0.498642</td>\n",
       "      <td>1980</td>\n",
       "      <td>1</td>\n",
       "      <td>5</td>\n",
       "      <td>5</td>\n",
       "      <td>5</td>\n",
       "      <td>0</td>\n",
       "      <td>0</td>\n",
       "      <td>0</td>\n",
       "      <td>1</td>\n",
       "      <td>1</td>\n",
       "    </tr>\n",
       "  </tbody>\n",
       "</table>\n",
       "</div>"
      ],
      "text/plain": [
       "               Value  Year  Month  Day  DayOfWeek  DayOfYear  Hour  Minute  \\\n",
       "Date                                                                         \n",
       "1980-01-01  0.498642  1980      1    1          1          1     0       0   \n",
       "1980-01-02  0.498642  1980      1    2          2          2     0       0   \n",
       "1980-01-03  0.498642  1980      1    3          3          3     0       0   \n",
       "1980-01-04  0.498642  1980      1    4          4          4     0       0   \n",
       "1980-01-05  0.498642  1980      1    5          5          5     0       0   \n",
       "\n",
       "            Second  Quarter  IsLeapYear  \n",
       "Date                                     \n",
       "1980-01-01       0        1           1  \n",
       "1980-01-02       0        1           1  \n",
       "1980-01-03       0        1           1  \n",
       "1980-01-04       0        1           1  \n",
       "1980-01-05       0        1           1  "
      ]
     },
     "execution_count": 184,
     "metadata": {},
     "output_type": "execute_result"
    }
   ],
   "source": [
    "# Use MinMaxScaler to scale the data between 0 , 1 \"Achieve better results only on LSTM\"\n",
    "scaler = MinMaxScaler()\n",
    "df[\"Value\"] = scaler.fit_transform(df[\"Value\"].values.reshape(-1, 1))\n",
    "df = pd.DataFrame(df)\n",
    "df.head()"
   ]
  },
  {
   "cell_type": "code",
   "execution_count": 185,
   "metadata": {
    "execution": {
     "iopub.status.busy": "2025-01-12T21:24:43.003502Z",
     "iopub.status.idle": "2025-01-12T21:24:43.003923Z",
     "shell.execute_reply": "2025-01-12T21:24:43.003734Z",
     "shell.execute_reply.started": "2025-01-12T21:24:43.003718Z"
    },
    "trusted": true
   },
   "outputs": [
    {
     "name": "stdout",
     "output_type": "stream",
     "text": [
      "12224\n",
      "12224\n",
      "3057\n",
      "3057\n"
     ]
    }
   ],
   "source": [
    "Features = [\"Year\" , \"Month\" , \"DayOfYear\" , \"Hour\" , \n",
    "            \"Minute\" , \"Second\" , \"Quarter\" , \"IsLeapYear\"]\n",
    "Target = [\"Value\"]\n",
    "X = df[Features]\n",
    "Y = df[Target]\n",
    "X_train = X.iloc[:cut_off]\n",
    "Y_train = Y.iloc[:cut_off]\n",
    "X_test = X.iloc[cut_off:]\n",
    "Y_test = Y.iloc[cut_off:]\n",
    "print(len(X_train))\n",
    "print(len(Y_train))\n",
    "print(len(X_test))\n",
    "print(len(Y_test))"
   ]
  },
  {
   "cell_type": "code",
   "execution_count": 186,
   "metadata": {
    "execution": {
     "iopub.status.busy": "2025-01-12T21:24:43.005177Z",
     "iopub.status.idle": "2025-01-12T21:24:43.005533Z",
     "shell.execute_reply": "2025-01-12T21:24:43.005388Z",
     "shell.execute_reply.started": "2025-01-12T21:24:43.005372Z"
    },
    "trusted": true
   },
   "outputs": [
    {
     "data": {
      "text/html": [
       "<div>\n",
       "<style scoped>\n",
       "    .dataframe tbody tr th:only-of-type {\n",
       "        vertical-align: middle;\n",
       "    }\n",
       "\n",
       "    .dataframe tbody tr th {\n",
       "        vertical-align: top;\n",
       "    }\n",
       "\n",
       "    .dataframe thead th {\n",
       "        text-align: right;\n",
       "    }\n",
       "</style>\n",
       "<table border=\"1\" class=\"dataframe\">\n",
       "  <thead>\n",
       "    <tr style=\"text-align: right;\">\n",
       "      <th></th>\n",
       "      <th>Year</th>\n",
       "      <th>Month</th>\n",
       "      <th>DayOfYear</th>\n",
       "      <th>Hour</th>\n",
       "      <th>Minute</th>\n",
       "      <th>Second</th>\n",
       "      <th>Quarter</th>\n",
       "      <th>IsLeapYear</th>\n",
       "    </tr>\n",
       "    <tr>\n",
       "      <th>Date</th>\n",
       "      <th></th>\n",
       "      <th></th>\n",
       "      <th></th>\n",
       "      <th></th>\n",
       "      <th></th>\n",
       "      <th></th>\n",
       "      <th></th>\n",
       "      <th></th>\n",
       "    </tr>\n",
       "  </thead>\n",
       "  <tbody>\n",
       "    <tr>\n",
       "      <th>1980-01-01</th>\n",
       "      <td>1980</td>\n",
       "      <td>1</td>\n",
       "      <td>1</td>\n",
       "      <td>0</td>\n",
       "      <td>0</td>\n",
       "      <td>0</td>\n",
       "      <td>1</td>\n",
       "      <td>1</td>\n",
       "    </tr>\n",
       "    <tr>\n",
       "      <th>1980-01-02</th>\n",
       "      <td>1980</td>\n",
       "      <td>1</td>\n",
       "      <td>2</td>\n",
       "      <td>0</td>\n",
       "      <td>0</td>\n",
       "      <td>0</td>\n",
       "      <td>1</td>\n",
       "      <td>1</td>\n",
       "    </tr>\n",
       "    <tr>\n",
       "      <th>1980-01-03</th>\n",
       "      <td>1980</td>\n",
       "      <td>1</td>\n",
       "      <td>3</td>\n",
       "      <td>0</td>\n",
       "      <td>0</td>\n",
       "      <td>0</td>\n",
       "      <td>1</td>\n",
       "      <td>1</td>\n",
       "    </tr>\n",
       "    <tr>\n",
       "      <th>1980-01-04</th>\n",
       "      <td>1980</td>\n",
       "      <td>1</td>\n",
       "      <td>4</td>\n",
       "      <td>0</td>\n",
       "      <td>0</td>\n",
       "      <td>0</td>\n",
       "      <td>1</td>\n",
       "      <td>1</td>\n",
       "    </tr>\n",
       "    <tr>\n",
       "      <th>1980-01-05</th>\n",
       "      <td>1980</td>\n",
       "      <td>1</td>\n",
       "      <td>5</td>\n",
       "      <td>0</td>\n",
       "      <td>0</td>\n",
       "      <td>0</td>\n",
       "      <td>1</td>\n",
       "      <td>1</td>\n",
       "    </tr>\n",
       "  </tbody>\n",
       "</table>\n",
       "</div>"
      ],
      "text/plain": [
       "            Year  Month  DayOfYear  Hour  Minute  Second  Quarter  IsLeapYear\n",
       "Date                                                                         \n",
       "1980-01-01  1980      1          1     0       0       0        1           1\n",
       "1980-01-02  1980      1          2     0       0       0        1           1\n",
       "1980-01-03  1980      1          3     0       0       0        1           1\n",
       "1980-01-04  1980      1          4     0       0       0        1           1\n",
       "1980-01-05  1980      1          5     0       0       0        1           1"
      ]
     },
     "execution_count": 186,
     "metadata": {},
     "output_type": "execute_result"
    }
   ],
   "source": [
    "X_train.head()"
   ]
  },
  {
   "cell_type": "code",
   "execution_count": 187,
   "metadata": {
    "execution": {
     "iopub.status.busy": "2025-01-12T21:24:43.007582Z",
     "iopub.status.idle": "2025-01-12T21:24:43.007998Z",
     "shell.execute_reply": "2025-01-12T21:24:43.007795Z",
     "shell.execute_reply.started": "2025-01-12T21:24:43.007779Z"
    },
    "trusted": true
   },
   "outputs": [
    {
     "data": {
      "text/html": [
       "<div>\n",
       "<style scoped>\n",
       "    .dataframe tbody tr th:only-of-type {\n",
       "        vertical-align: middle;\n",
       "    }\n",
       "\n",
       "    .dataframe tbody tr th {\n",
       "        vertical-align: top;\n",
       "    }\n",
       "\n",
       "    .dataframe thead th {\n",
       "        text-align: right;\n",
       "    }\n",
       "</style>\n",
       "<table border=\"1\" class=\"dataframe\">\n",
       "  <thead>\n",
       "    <tr style=\"text-align: right;\">\n",
       "      <th></th>\n",
       "      <th>Value</th>\n",
       "    </tr>\n",
       "    <tr>\n",
       "      <th>Date</th>\n",
       "      <th></th>\n",
       "    </tr>\n",
       "  </thead>\n",
       "  <tbody>\n",
       "    <tr>\n",
       "      <th>1980-01-01</th>\n",
       "      <td>0.498642</td>\n",
       "    </tr>\n",
       "    <tr>\n",
       "      <th>1980-01-02</th>\n",
       "      <td>0.498642</td>\n",
       "    </tr>\n",
       "    <tr>\n",
       "      <th>1980-01-03</th>\n",
       "      <td>0.498642</td>\n",
       "    </tr>\n",
       "    <tr>\n",
       "      <th>1980-01-04</th>\n",
       "      <td>0.498642</td>\n",
       "    </tr>\n",
       "    <tr>\n",
       "      <th>1980-01-05</th>\n",
       "      <td>0.498642</td>\n",
       "    </tr>\n",
       "  </tbody>\n",
       "</table>\n",
       "</div>"
      ],
      "text/plain": [
       "               Value\n",
       "Date                \n",
       "1980-01-01  0.498642\n",
       "1980-01-02  0.498642\n",
       "1980-01-03  0.498642\n",
       "1980-01-04  0.498642\n",
       "1980-01-05  0.498642"
      ]
     },
     "execution_count": 187,
     "metadata": {},
     "output_type": "execute_result"
    }
   ],
   "source": [
    "Y_train.head()"
   ]
  },
  {
   "cell_type": "markdown",
   "metadata": {},
   "source": [
    "# **Linear Regression**"
   ]
  },
  {
   "cell_type": "code",
   "execution_count": 188,
   "metadata": {
    "execution": {
     "iopub.status.busy": "2025-01-12T21:24:43.009400Z",
     "iopub.status.idle": "2025-01-12T21:24:43.009744Z",
     "shell.execute_reply": "2025-01-12T21:24:43.009593Z",
     "shell.execute_reply.started": "2025-01-12T21:24:43.009578Z"
    },
    "trusted": true
   },
   "outputs": [
    {
     "data": {
      "text/html": [
       "<style>#sk-container-id-19 {color: black;background-color: white;}#sk-container-id-19 pre{padding: 0;}#sk-container-id-19 div.sk-toggleable {background-color: white;}#sk-container-id-19 label.sk-toggleable__label {cursor: pointer;display: block;width: 100%;margin-bottom: 0;padding: 0.3em;box-sizing: border-box;text-align: center;}#sk-container-id-19 label.sk-toggleable__label-arrow:before {content: \"▸\";float: left;margin-right: 0.25em;color: #696969;}#sk-container-id-19 label.sk-toggleable__label-arrow:hover:before {color: black;}#sk-container-id-19 div.sk-estimator:hover label.sk-toggleable__label-arrow:before {color: black;}#sk-container-id-19 div.sk-toggleable__content {max-height: 0;max-width: 0;overflow: hidden;text-align: left;background-color: #f0f8ff;}#sk-container-id-19 div.sk-toggleable__content pre {margin: 0.2em;color: black;border-radius: 0.25em;background-color: #f0f8ff;}#sk-container-id-19 input.sk-toggleable__control:checked~div.sk-toggleable__content {max-height: 200px;max-width: 100%;overflow: auto;}#sk-container-id-19 input.sk-toggleable__control:checked~label.sk-toggleable__label-arrow:before {content: \"▾\";}#sk-container-id-19 div.sk-estimator input.sk-toggleable__control:checked~label.sk-toggleable__label {background-color: #d4ebff;}#sk-container-id-19 div.sk-label input.sk-toggleable__control:checked~label.sk-toggleable__label {background-color: #d4ebff;}#sk-container-id-19 input.sk-hidden--visually {border: 0;clip: rect(1px 1px 1px 1px);clip: rect(1px, 1px, 1px, 1px);height: 1px;margin: -1px;overflow: hidden;padding: 0;position: absolute;width: 1px;}#sk-container-id-19 div.sk-estimator {font-family: monospace;background-color: #f0f8ff;border: 1px dotted black;border-radius: 0.25em;box-sizing: border-box;margin-bottom: 0.5em;}#sk-container-id-19 div.sk-estimator:hover {background-color: #d4ebff;}#sk-container-id-19 div.sk-parallel-item::after {content: \"\";width: 100%;border-bottom: 1px solid gray;flex-grow: 1;}#sk-container-id-19 div.sk-label:hover label.sk-toggleable__label {background-color: #d4ebff;}#sk-container-id-19 div.sk-serial::before {content: \"\";position: absolute;border-left: 1px solid gray;box-sizing: border-box;top: 0;bottom: 0;left: 50%;z-index: 0;}#sk-container-id-19 div.sk-serial {display: flex;flex-direction: column;align-items: center;background-color: white;padding-right: 0.2em;padding-left: 0.2em;position: relative;}#sk-container-id-19 div.sk-item {position: relative;z-index: 1;}#sk-container-id-19 div.sk-parallel {display: flex;align-items: stretch;justify-content: center;background-color: white;position: relative;}#sk-container-id-19 div.sk-item::before, #sk-container-id-19 div.sk-parallel-item::before {content: \"\";position: absolute;border-left: 1px solid gray;box-sizing: border-box;top: 0;bottom: 0;left: 50%;z-index: -1;}#sk-container-id-19 div.sk-parallel-item {display: flex;flex-direction: column;z-index: 1;position: relative;background-color: white;}#sk-container-id-19 div.sk-parallel-item:first-child::after {align-self: flex-end;width: 50%;}#sk-container-id-19 div.sk-parallel-item:last-child::after {align-self: flex-start;width: 50%;}#sk-container-id-19 div.sk-parallel-item:only-child::after {width: 0;}#sk-container-id-19 div.sk-dashed-wrapped {border: 1px dashed gray;margin: 0 0.4em 0.5em 0.4em;box-sizing: border-box;padding-bottom: 0.4em;background-color: white;}#sk-container-id-19 div.sk-label label {font-family: monospace;font-weight: bold;display: inline-block;line-height: 1.2em;}#sk-container-id-19 div.sk-label-container {text-align: center;}#sk-container-id-19 div.sk-container {/* jupyter's `normalize.less` sets `[hidden] { display: none; }` but bootstrap.min.css set `[hidden] { display: none !important; }` so we also need the `!important` here to be able to override the default hidden behavior on the sphinx rendered scikit-learn.org. See: https://github.com/scikit-learn/scikit-learn/issues/21755 */display: inline-block !important;position: relative;}#sk-container-id-19 div.sk-text-repr-fallback {display: none;}</style><div id=\"sk-container-id-19\" class=\"sk-top-container\"><div class=\"sk-text-repr-fallback\"><pre>Pipeline(steps=[(&#x27;standardscaler&#x27;, StandardScaler()),\n",
       "                (&#x27;linearregression&#x27;, LinearRegression())])</pre><b>In a Jupyter environment, please rerun this cell to show the HTML representation or trust the notebook. <br />On GitHub, the HTML representation is unable to render, please try loading this page with nbviewer.org.</b></div><div class=\"sk-container\" hidden><div class=\"sk-item sk-dashed-wrapped\"><div class=\"sk-label-container\"><div class=\"sk-label sk-toggleable\"><input class=\"sk-toggleable__control sk-hidden--visually\" id=\"sk-estimator-id-21\" type=\"checkbox\" ><label for=\"sk-estimator-id-21\" class=\"sk-toggleable__label sk-toggleable__label-arrow\">Pipeline</label><div class=\"sk-toggleable__content\"><pre>Pipeline(steps=[(&#x27;standardscaler&#x27;, StandardScaler()),\n",
       "                (&#x27;linearregression&#x27;, LinearRegression())])</pre></div></div></div><div class=\"sk-serial\"><div class=\"sk-item\"><div class=\"sk-estimator sk-toggleable\"><input class=\"sk-toggleable__control sk-hidden--visually\" id=\"sk-estimator-id-22\" type=\"checkbox\" ><label for=\"sk-estimator-id-22\" class=\"sk-toggleable__label sk-toggleable__label-arrow\">StandardScaler</label><div class=\"sk-toggleable__content\"><pre>StandardScaler()</pre></div></div></div><div class=\"sk-item\"><div class=\"sk-estimator sk-toggleable\"><input class=\"sk-toggleable__control sk-hidden--visually\" id=\"sk-estimator-id-23\" type=\"checkbox\" ><label for=\"sk-estimator-id-23\" class=\"sk-toggleable__label sk-toggleable__label-arrow\">LinearRegression</label><div class=\"sk-toggleable__content\"><pre>LinearRegression()</pre></div></div></div></div></div></div></div>"
      ],
      "text/plain": [
       "Pipeline(steps=[('standardscaler', StandardScaler()),\n",
       "                ('linearregression', LinearRegression())])"
      ]
     },
     "execution_count": 188,
     "metadata": {},
     "output_type": "execute_result"
    }
   ],
   "source": [
    "lr = make_pipeline(StandardScaler(), LinearRegression())\n",
    "lr.fit(X_train , Y_train)"
   ]
  },
  {
   "cell_type": "code",
   "execution_count": 189,
   "metadata": {
    "execution": {
     "iopub.status.busy": "2025-01-12T21:24:43.011566Z",
     "iopub.status.idle": "2025-01-12T21:24:43.012221Z",
     "shell.execute_reply": "2025-01-12T21:24:43.011958Z",
     "shell.execute_reply.started": "2025-01-12T21:24:43.011931Z"
    },
    "trusted": true
   },
   "outputs": [
    {
     "data": {
      "text/html": [
       "<div>\n",
       "<style scoped>\n",
       "    .dataframe tbody tr th:only-of-type {\n",
       "        vertical-align: middle;\n",
       "    }\n",
       "\n",
       "    .dataframe tbody tr th {\n",
       "        vertical-align: top;\n",
       "    }\n",
       "\n",
       "    .dataframe thead th {\n",
       "        text-align: right;\n",
       "    }\n",
       "</style>\n",
       "<table border=\"1\" class=\"dataframe\">\n",
       "  <thead>\n",
       "    <tr style=\"text-align: right;\">\n",
       "      <th></th>\n",
       "      <th>Value</th>\n",
       "    </tr>\n",
       "    <tr>\n",
       "      <th>Date</th>\n",
       "      <th></th>\n",
       "    </tr>\n",
       "  </thead>\n",
       "  <tbody>\n",
       "    <tr>\n",
       "      <th>2013-06-20</th>\n",
       "      <td>0.879919</td>\n",
       "    </tr>\n",
       "    <tr>\n",
       "      <th>2013-06-21</th>\n",
       "      <td>0.879919</td>\n",
       "    </tr>\n",
       "    <tr>\n",
       "      <th>2013-06-22</th>\n",
       "      <td>0.879919</td>\n",
       "    </tr>\n",
       "    <tr>\n",
       "      <th>2013-06-23</th>\n",
       "      <td>0.879919</td>\n",
       "    </tr>\n",
       "    <tr>\n",
       "      <th>2013-06-24</th>\n",
       "      <td>0.879919</td>\n",
       "    </tr>\n",
       "    <tr>\n",
       "      <th>...</th>\n",
       "      <td>...</td>\n",
       "    </tr>\n",
       "    <tr>\n",
       "      <th>2021-10-28</th>\n",
       "      <td>0.653539</td>\n",
       "    </tr>\n",
       "    <tr>\n",
       "      <th>2021-10-29</th>\n",
       "      <td>0.653539</td>\n",
       "    </tr>\n",
       "    <tr>\n",
       "      <th>2021-10-30</th>\n",
       "      <td>0.653539</td>\n",
       "    </tr>\n",
       "    <tr>\n",
       "      <th>2021-10-31</th>\n",
       "      <td>0.653539</td>\n",
       "    </tr>\n",
       "    <tr>\n",
       "      <th>2021-11-01</th>\n",
       "      <td>0.608981</td>\n",
       "    </tr>\n",
       "  </tbody>\n",
       "</table>\n",
       "<p>3057 rows × 1 columns</p>\n",
       "</div>"
      ],
      "text/plain": [
       "               Value\n",
       "Date                \n",
       "2013-06-20  0.879919\n",
       "2013-06-21  0.879919\n",
       "2013-06-22  0.879919\n",
       "2013-06-23  0.879919\n",
       "2013-06-24  0.879919\n",
       "...              ...\n",
       "2021-10-28  0.653539\n",
       "2021-10-29  0.653539\n",
       "2021-10-30  0.653539\n",
       "2021-10-31  0.653539\n",
       "2021-11-01  0.608981\n",
       "\n",
       "[3057 rows x 1 columns]"
      ]
     },
     "execution_count": 189,
     "metadata": {},
     "output_type": "execute_result"
    }
   ],
   "source": [
    "Y_test"
   ]
  },
  {
   "cell_type": "code",
   "execution_count": 190,
   "metadata": {
    "execution": {
     "iopub.status.busy": "2025-01-12T21:24:43.014896Z",
     "iopub.status.idle": "2025-01-12T21:24:43.015306Z",
     "shell.execute_reply": "2025-01-12T21:24:43.015146Z",
     "shell.execute_reply.started": "2025-01-12T21:24:43.015128Z"
    },
    "trusted": true
   },
   "outputs": [],
   "source": [
    "Y_pred_lr = lr.predict(X_test)\n",
    "# Inverse the MinMaxScaler transformation to calculate comparable MSE between models & \n",
    "# To predict real values of gold prices\n",
    "Y_pred_lr = scaler.inverse_transform(Y_pred_lr.reshape(-1, 1))\n",
    "Y_test_lr = scaler.inverse_transform(Y_test.values.reshape(-1, 1))"
   ]
  },
  {
   "cell_type": "code",
   "execution_count": 191,
   "metadata": {
    "execution": {
     "iopub.status.busy": "2025-01-12T21:24:43.017182Z",
     "iopub.status.idle": "2025-01-12T21:24:43.017622Z",
     "shell.execute_reply": "2025-01-12T21:24:43.017441Z",
     "shell.execute_reply.started": "2025-01-12T21:24:43.017421Z"
    },
    "trusted": true
   },
   "outputs": [
    {
     "data": {
      "text/plain": [
       "1.4691709724355497"
      ]
     },
     "execution_count": 191,
     "metadata": {},
     "output_type": "execute_result"
    }
   ],
   "source": [
    "mean_squared_error(Y_test_lr , Y_pred_lr)"
   ]
  },
  {
   "cell_type": "code",
   "execution_count": 192,
   "metadata": {
    "execution": {
     "iopub.status.busy": "2025-01-12T21:24:43.018636Z",
     "iopub.status.idle": "2025-01-12T21:24:43.019058Z",
     "shell.execute_reply": "2025-01-12T21:24:43.018856Z",
     "shell.execute_reply.started": "2025-01-12T21:24:43.018839Z"
    },
    "trusted": true
   },
   "outputs": [
    {
     "data": {
      "image/png": "[encoded data removed]",
      "text/plain": [
       "<Figure size 640x480 with 1 Axes>"
      ]
     },
     "metadata": {},
     "output_type": "display_data"
    }
   ],
   "source": [
    "#plt.plot(df.iloc[:cut_off][\"Date\"] , df.iloc[:cut_off][\"Value\"] , color='blue', label='X_train')\n",
    "plt.plot(df.index[cut_off:] , Y_test_lr , color='orange', label='X_test')\n",
    "plt.plot(df.index[cut_off:] , Y_pred_lr , color='Black', label='Prediction')\n",
    "plt.xlabel('Time')\n",
    "plt.ylabel('Data')\n",
    "plt.title('True And Predicted Value')\n",
    "plt.legend()\n",
    "plt.show()"
   ]
  },
  {
   "cell_type": "markdown",
   "metadata": {},
   "source": [
    "# **XGBoost Regressor**"
   ]
  },
  {
   "cell_type": "code",
   "execution_count": 193,
   "metadata": {
    "execution": {
     "iopub.status.busy": "2025-01-12T21:24:43.020667Z",
     "iopub.status.idle": "2025-01-12T21:24:43.021103Z",
     "shell.execute_reply": "2025-01-12T21:24:43.020927Z",
     "shell.execute_reply.started": "2025-01-12T21:24:43.020901Z"
    },
    "trusted": true
   },
   "outputs": [
    {
     "name": "stdout",
     "output_type": "stream",
     "text": [
      "Fitting 5 folds for each of 50 candidates, totalling 250 fits\n"
     ]
    },
    {
     "name": "stdout",
     "output_type": "stream",
     "text": [
      "Best parameters found:  {'colsample_bytree': 0.821578285398661, 'learning_rate': 0.013142918568673426, 'max_depth': 5, 'min_child_weight': 1, 'n_estimators': 50, 'subsample': 0.9017141382329406}\n",
      "Best score found:  0.051915731980043664\n"
     ]
    }
   ],
   "source": [
    "from sklearn.model_selection import RandomizedSearchCV\n",
    "from xgboost import XGBRegressor\n",
    "from scipy.stats import uniform\n",
    "\n",
    "# Định nghĩa mô hình cơ bản\n",
    "xgb = XGBRegressor(random_state=42)\n",
    "\n",
    "# Tập hợp các tham số cần thử nghiệm\n",
    "param_distributions = {\n",
    "    'n_estimators': [50, 100, 200],\n",
    "    'learning_rate': uniform(0.01, 0.1),  # Dải giá trị cho learning_rate\n",
    "    'max_depth': [3, 4, 5],\n",
    "    'min_child_weight': [1, 3, 5],\n",
    "    'subsample': uniform(0.8, 0.2),      # Dải giá trị cho subsample\n",
    "    'colsample_bytree': uniform(0.8, 0.2)\n",
    "}\n",
    "\n",
    "# Khởi tạo RandomizedSearchCV\n",
    "random_search = RandomizedSearchCV(\n",
    "    estimator=xgb,\n",
    "    param_distributions=param_distributions,\n",
    "    scoring='neg_mean_squared_error',\n",
    "    n_iter=50,                      # Số lượng tổ hợp thử nghiệm\n",
    "    cv=5,\n",
    "    verbose=1,\n",
    "    random_state=42,\n",
    "    n_jobs=-1\n",
    ")\n",
    "\n",
    "# Chạy tìm kiếm\n",
    "random_search.fit(X_train, Y_train)\n",
    "\n",
    "# In kết quả tốt nhất\n",
    "print(\"Best parameters found: \", random_search.best_params_)\n",
    "print(\"Best score found: \", -random_search.best_score_)\n"
   ]
  },
  {
   "cell_type": "code",
   "execution_count": 194,
   "metadata": {},
   "outputs": [
    {
     "data": {
      "text/html": [
       "<style>#sk-container-id-20 {color: black;background-color: white;}#sk-container-id-20 pre{padding: 0;}#sk-container-id-20 div.sk-toggleable {background-color: white;}#sk-container-id-20 label.sk-toggleable__label {cursor: pointer;display: block;width: 100%;margin-bottom: 0;padding: 0.3em;box-sizing: border-box;text-align: center;}#sk-container-id-20 label.sk-toggleable__label-arrow:before {content: \"▸\";float: left;margin-right: 0.25em;color: #696969;}#sk-container-id-20 label.sk-toggleable__label-arrow:hover:before {color: black;}#sk-container-id-20 div.sk-estimator:hover label.sk-toggleable__label-arrow:before {color: black;}#sk-container-id-20 div.sk-toggleable__content {max-height: 0;max-width: 0;overflow: hidden;text-align: left;background-color: #f0f8ff;}#sk-container-id-20 div.sk-toggleable__content pre {margin: 0.2em;color: black;border-radius: 0.25em;background-color: #f0f8ff;}#sk-container-id-20 input.sk-toggleable__control:checked~div.sk-toggleable__content {max-height: 200px;max-width: 100%;overflow: auto;}#sk-container-id-20 input.sk-toggleable__control:checked~label.sk-toggleable__label-arrow:before {content: \"▾\";}#sk-container-id-20 div.sk-estimator input.sk-toggleable__control:checked~label.sk-toggleable__label {background-color: #d4ebff;}#sk-container-id-20 div.sk-label input.sk-toggleable__control:checked~label.sk-toggleable__label {background-color: #d4ebff;}#sk-container-id-20 input.sk-hidden--visually {border: 0;clip: rect(1px 1px 1px 1px);clip: rect(1px, 1px, 1px, 1px);height: 1px;margin: -1px;overflow: hidden;padding: 0;position: absolute;width: 1px;}#sk-container-id-20 div.sk-estimator {font-family: monospace;background-color: #f0f8ff;border: 1px dotted black;border-radius: 0.25em;box-sizing: border-box;margin-bottom: 0.5em;}#sk-container-id-20 div.sk-estimator:hover {background-color: #d4ebff;}#sk-container-id-20 div.sk-parallel-item::after {content: \"\";width: 100%;border-bottom: 1px solid gray;flex-grow: 1;}#sk-container-id-20 div.sk-label:hover label.sk-toggleable__label {background-color: #d4ebff;}#sk-container-id-20 div.sk-serial::before {content: \"\";position: absolute;border-left: 1px solid gray;box-sizing: border-box;top: 0;bottom: 0;left: 50%;z-index: 0;}#sk-container-id-20 div.sk-serial {display: flex;flex-direction: column;align-items: center;background-color: white;padding-right: 0.2em;padding-left: 0.2em;position: relative;}#sk-container-id-20 div.sk-item {position: relative;z-index: 1;}#sk-container-id-20 div.sk-parallel {display: flex;align-items: stretch;justify-content: center;background-color: white;position: relative;}#sk-container-id-20 div.sk-item::before, #sk-container-id-20 div.sk-parallel-item::before {content: \"\";position: absolute;border-left: 1px solid gray;box-sizing: border-box;top: 0;bottom: 0;left: 50%;z-index: -1;}#sk-container-id-20 div.sk-parallel-item {display: flex;flex-direction: column;z-index: 1;position: relative;background-color: white;}#sk-container-id-20 div.sk-parallel-item:first-child::after {align-self: flex-end;width: 50%;}#sk-container-id-20 div.sk-parallel-item:last-child::after {align-self: flex-start;width: 50%;}#sk-container-id-20 div.sk-parallel-item:only-child::after {width: 0;}#sk-container-id-20 div.sk-dashed-wrapped {border: 1px dashed gray;margin: 0 0.4em 0.5em 0.4em;box-sizing: border-box;padding-bottom: 0.4em;background-color: white;}#sk-container-id-20 div.sk-label label {font-family: monospace;font-weight: bold;display: inline-block;line-height: 1.2em;}#sk-container-id-20 div.sk-label-container {text-align: center;}#sk-container-id-20 div.sk-container {/* jupyter's `normalize.less` sets `[hidden] { display: none; }` but bootstrap.min.css set `[hidden] { display: none !important; }` so we also need the `!important` here to be able to override the default hidden behavior on the sphinx rendered scikit-learn.org. See: https://github.com/scikit-learn/scikit-learn/issues/21755 */display: inline-block !important;position: relative;}#sk-container-id-20 div.sk-text-repr-fallback {display: none;}</style><div id=\"sk-container-id-20\" class=\"sk-top-container\"><div class=\"sk-text-repr-fallback\"><pre>XGBRegressor(base_score=None, booster=None, callbacks=None,\n",
       "             colsample_bylevel=None, colsample_bynode=None,\n",
       "             colsample_bytree=0.821578285398661, early_stopping_rounds=None,\n",
       "             enable_categorical=False, eval_metric=None, feature_types=None,\n",
       "             gamma=None, gpu_id=None, grow_policy=None, importance_type=None,\n",
       "             interaction_constraints=None, learning_rate=0.013142918568673426,\n",
       "             max_bin=None, max_cat_threshold=None, max_cat_to_onehot=None,\n",
       "             max_delta_step=None, max_depth=5, max_leaves=None,\n",
       "             min_child_weight=1, missing=nan, monotone_constraints=None,\n",
       "             n_estimators=50, n_jobs=None, num_parallel_tree=None,\n",
       "             predictor=None, random_state=None, ...)</pre><b>In a Jupyter environment, please rerun this cell to show the HTML representation or trust the notebook. <br />On GitHub, the HTML representation is unable to render, please try loading this page with nbviewer.org.</b></div><div class=\"sk-container\" hidden><div class=\"sk-item\"><div class=\"sk-estimator sk-toggleable\"><input class=\"sk-toggleable__control sk-hidden--visually\" id=\"sk-estimator-id-24\" type=\"checkbox\" checked><label for=\"sk-estimator-id-24\" class=\"sk-toggleable__label sk-toggleable__label-arrow\">XGBRegressor</label><div class=\"sk-toggleable__content\"><pre>XGBRegressor(base_score=None, booster=None, callbacks=None,\n",
       "             colsample_bylevel=None, colsample_bynode=None,\n",
       "             colsample_bytree=0.821578285398661, early_stopping_rounds=None,\n",
       "             enable_categorical=False, eval_metric=None, feature_types=None,\n",
       "             gamma=None, gpu_id=None, grow_policy=None, importance_type=None,\n",
       "             interaction_constraints=None, learning_rate=0.013142918568673426,\n",
       "             max_bin=None, max_cat_threshold=None, max_cat_to_onehot=None,\n",
       "             max_delta_step=None, max_depth=5, max_leaves=None,\n",
       "             min_child_weight=1, missing=nan, monotone_constraints=None,\n",
       "             n_estimators=50, n_jobs=None, num_parallel_tree=None,\n",
       "             predictor=None, random_state=None, ...)</pre></div></div></div></div></div>"
      ],
      "text/plain": [
       "XGBRegressor(base_score=None, booster=None, callbacks=None,\n",
       "             colsample_bylevel=None, colsample_bynode=None,\n",
       "             colsample_bytree=0.821578285398661, early_stopping_rounds=None,\n",
       "             enable_categorical=False, eval_metric=None, feature_types=None,\n",
       "             gamma=None, gpu_id=None, grow_policy=None, importance_type=None,\n",
       "             interaction_constraints=None, learning_rate=0.013142918568673426,\n",
       "             max_bin=None, max_cat_threshold=None, max_cat_to_onehot=None,\n",
       "             max_delta_step=None, max_depth=5, max_leaves=None,\n",
       "             min_child_weight=1, missing=nan, monotone_constraints=None,\n",
       "             n_estimators=50, n_jobs=None, num_parallel_tree=None,\n",
       "             predictor=None, random_state=None, ...)"
      ]
     },
     "execution_count": 194,
     "metadata": {},
     "output_type": "execute_result"
    }
   ],
   "source": [
    "xgb = XGBRegressor(colsample_bytree= 0.821578285398661, learning_rate= 0.013142918568673426, max_depth= 5, min_child_weight= 1, n_estimators= 50, subsample= 0.9017141382329406 )\n",
    "xgb.fit(X_train , Y_train ,verbose = 50)"
   ]
  },
  {
   "cell_type": "code",
   "execution_count": 195,
   "metadata": {
    "execution": {
     "iopub.status.busy": "2025-01-12T21:24:43.022689Z",
     "iopub.status.idle": "2025-01-12T21:24:43.023092Z",
     "shell.execute_reply": "2025-01-12T21:24:43.022920Z",
     "shell.execute_reply.started": "2025-01-12T21:24:43.022870Z"
    },
    "trusted": true
   },
   "outputs": [],
   "source": [
    "Y_pred_xgb = xgb.predict(X_test)\n",
    "Y_pred_xgb = scaler.inverse_transform(Y_pred_xgb.reshape(-1, 1))\n",
    "Y_test_xgb = scaler.inverse_transform(Y_test)"
   ]
  },
  {
   "cell_type": "code",
   "execution_count": 196,
   "metadata": {},
   "outputs": [
    {
     "data": {
      "text/plain": [
       "1.0506289040910692"
      ]
     },
     "execution_count": 196,
     "metadata": {},
     "output_type": "execute_result"
    }
   ],
   "source": [
    "mean_squared_error(Y_test_xgb , Y_pred_xgb)"
   ]
  },
  {
   "cell_type": "code",
   "execution_count": 197,
   "metadata": {
    "execution": {
     "iopub.status.busy": "2025-01-12T21:24:43.027137Z",
     "iopub.status.idle": "2025-01-12T21:24:43.027536Z",
     "shell.execute_reply": "2025-01-12T21:24:43.027377Z",
     "shell.execute_reply.started": "2025-01-12T21:24:43.027356Z"
    },
    "trusted": true
   },
   "outputs": [
    {
     "data": {
      "image/png": "[encoded data removed]",
      "text/plain": [
       "<Figure size 640x480 with 1 Axes>"
      ]
     },
     "metadata": {},
     "output_type": "display_data"
    }
   ],
   "source": [
    "#plt.plot(df.iloc[:cut_off][\"Date\"] , df.iloc[:cut_off][\"Value\"] , color='blue', label='X_train')\n",
    "plt.plot(df.index[cut_off:] , Y_test_xgb , color='blue', label='X_test')\n",
    "plt.plot(df.index[cut_off:] , Y_pred_xgb , color='orange', label='Prediction')\n",
    "plt.xlabel('Time')\n",
    "plt.ylabel('Data')\n",
    "plt.title('Dự báo XGB của khu vực Charllotetown')\n",
    "plt.legend()\n",
    "plt.show()"
   ]
  },
  {
   "cell_type": "code",
   "execution_count": 198,
   "metadata": {},
   "outputs": [
    {
     "name": "stdout",
     "output_type": "stream",
     "text": [
      "Mean Squared Error (MSE): 0.08617816574907232\n",
      "Root Mean Squared Error (RMSE): 0.2935611788862286\n",
      "Mean Absolute Error (MAE): 0.2461429615945292\n",
      "Mean Absolute Percentage Error (MAPE): 83.42992782918999\n",
      "Dự báo 12 bước tiếp theo: [0.36419794, 0.7720048, 0.49952823, 0.49952823, 0.49952823, 0.524973, 0.49952823, 0.49952823, 0.49952823, 0.49952823, 0.49952823, 0.49952823]\n"
     ]
    }
   ],
   "source": [
    "import numpy as np\n",
    "from sklearn.metrics import mean_squared_error, mean_absolute_error\n",
    "from xgboost import XGBRegressor\n",
    "\n",
    "# Hàm MAPE\n",
    "def mean_absolute_percentage_error(y_true, y_pred):\n",
    "    y_true, y_pred = np.array(y_true), np.array(y_pred)\n",
    "    return np.mean(np.abs((y_true - y_pred) / y_true)) * 100\n",
    "\n",
    "# Hàm RMSE\n",
    "def root_mean_squared_error(y_true, y_pred):\n",
    "    return np.sqrt(mean_squared_error(y_true, y_pred))\n",
    "\n",
    "# Hàm dự báo m bước\n",
    "def forecast_m_steps(model, X_test, m_steps):\n",
    "    if len(X_test) == 0:\n",
    "        raise ValueError(\"X_test is empty. Please provide valid input data.\")\n",
    "    if not isinstance(X_test, np.ndarray):\n",
    "        X_test = np.array(X_test)\n",
    "\n",
    "    forecasts = []\n",
    "    current_input = X_test[-1]  # Sử dụng điểm cuối cùng làm đầu vào ban đầu\n",
    "    for _ in range(m_steps):\n",
    "        prediction = model.predict(current_input.reshape(1, -1))[0]  # Dự báo một bước\n",
    "        forecasts.append(prediction)  # Lưu dự báo\n",
    "        # Cập nhật đầu vào: Loại bỏ điểm đầu tiên và thêm dự báo\n",
    "        current_input = np.roll(current_input, -1)  # Trượt sang trái\n",
    "        current_input[-1] = prediction  # Thêm dự báo mới vào cuối\n",
    "    return forecasts\n",
    "\n",
    "# Huấn luyện mô hình XGBoost\n",
    "XGB_model = XGBRegressor()\n",
    "XGB_model.fit(X_train, Y_train)\n",
    "\n",
    "# Dự đoán trên tập kiểm tra\n",
    "Y_pred_xgb = XGB_model.predict(X_test)\n",
    "\n",
    "# Tính toán các chỉ số đánh giá\n",
    "mse = mean_squared_error(Y_test, Y_pred_xgb)\n",
    "rmse = root_mean_squared_error(Y_test, Y_pred_xgb)\n",
    "mae = mean_absolute_error(Y_test, Y_pred_xgb)\n",
    "mape = mean_absolute_percentage_error(Y_test, Y_pred_xgb)\n",
    "\n",
    "print(\"Mean Squared Error (MSE):\", mse)\n",
    "print(\"Root Mean Squared Error (RMSE):\", rmse)\n",
    "print(\"Mean Absolute Error (MAE):\", mae)\n",
    "print(\"Mean Absolute Percentage Error (MAPE):\", mape)\n",
    "\n",
    "# Gọi hàm dự báo m bước\n",
    "m_steps = 12  # Số bước dự báo\n",
    "Y_forecast_xgb = forecast_m_steps(model=XGB_model, X_test=X_test, m_steps=m_steps)\n",
    "print(f\"Dự báo {m_steps} bước tiếp theo:\", Y_forecast_xgb)\n"
   ]
  },
  {
   "cell_type": "code",
   "execution_count": 199,
   "metadata": {
    "execution": {
     "iopub.status.busy": "2025-01-12T21:24:43.028812Z",
     "iopub.status.idle": "2025-01-12T21:24:43.029250Z",
     "shell.execute_reply": "2025-01-12T21:24:43.029090Z",
     "shell.execute_reply.started": "2025-01-12T21:24:43.029073Z"
    },
    "trusted": true
   },
   "outputs": [],
   "source": [
    "feat_imp = pd.DataFrame(index = xgb.feature_names_in_ ,\n",
    "                        data = xgb.feature_importances_ , \n",
    "                        columns = [\"importance\"])"
   ]
  },
  {
   "cell_type": "code",
   "execution_count": 200,
   "metadata": {
    "execution": {
     "iopub.status.busy": "2025-01-12T21:24:43.030572Z",
     "iopub.status.idle": "2025-01-12T21:24:43.030991Z",
     "shell.execute_reply": "2025-01-12T21:24:43.030789Z",
     "shell.execute_reply.started": "2025-01-12T21:24:43.030773Z"
    },
    "trusted": true
   },
   "outputs": [
    {
     "data": {
      "text/html": [
       "<div>\n",
       "<style scoped>\n",
       "    .dataframe tbody tr th:only-of-type {\n",
       "        vertical-align: middle;\n",
       "    }\n",
       "\n",
       "    .dataframe tbody tr th {\n",
       "        vertical-align: top;\n",
       "    }\n",
       "\n",
       "    .dataframe thead th {\n",
       "        text-align: right;\n",
       "    }\n",
       "</style>\n",
       "<table border=\"1\" class=\"dataframe\">\n",
       "  <thead>\n",
       "    <tr style=\"text-align: right;\">\n",
       "      <th></th>\n",
       "      <th>importance</th>\n",
       "    </tr>\n",
       "  </thead>\n",
       "  <tbody>\n",
       "    <tr>\n",
       "      <th>Year</th>\n",
       "      <td>0.544022</td>\n",
       "    </tr>\n",
       "    <tr>\n",
       "      <th>Month</th>\n",
       "      <td>0.050741</td>\n",
       "    </tr>\n",
       "    <tr>\n",
       "      <th>DayOfYear</th>\n",
       "      <td>0.010091</td>\n",
       "    </tr>\n",
       "    <tr>\n",
       "      <th>Hour</th>\n",
       "      <td>0.000000</td>\n",
       "    </tr>\n",
       "    <tr>\n",
       "      <th>Minute</th>\n",
       "      <td>0.000000</td>\n",
       "    </tr>\n",
       "    <tr>\n",
       "      <th>Second</th>\n",
       "      <td>0.000000</td>\n",
       "    </tr>\n",
       "    <tr>\n",
       "      <th>Quarter</th>\n",
       "      <td>0.059687</td>\n",
       "    </tr>\n",
       "    <tr>\n",
       "      <th>IsLeapYear</th>\n",
       "      <td>0.335459</td>\n",
       "    </tr>\n",
       "  </tbody>\n",
       "</table>\n",
       "</div>"
      ],
      "text/plain": [
       "            importance\n",
       "Year          0.544022\n",
       "Month         0.050741\n",
       "DayOfYear     0.010091\n",
       "Hour          0.000000\n",
       "Minute        0.000000\n",
       "Second        0.000000\n",
       "Quarter       0.059687\n",
       "IsLeapYear    0.335459"
      ]
     },
     "execution_count": 200,
     "metadata": {},
     "output_type": "execute_result"
    }
   ],
   "source": [
    "feat_imp"
   ]
  },
  {
   "cell_type": "code",
   "execution_count": 201,
   "metadata": {
    "execution": {
     "iopub.status.busy": "2025-01-12T21:24:43.032410Z",
     "iopub.status.idle": "2025-01-12T21:24:43.032819Z",
     "shell.execute_reply": "2025-01-12T21:24:43.032643Z",
     "shell.execute_reply.started": "2025-01-12T21:24:43.032625Z"
    },
    "trusted": true
   },
   "outputs": [
    {
     "data": {
      "text/plain": [
       "<Axes: title={'center': 'Feature Importances'}>"
      ]
     },
     "execution_count": 201,
     "metadata": {},
     "output_type": "execute_result"
    },
    {
     "data": {
      "image/png": "[encoded data removed]",
      "text/plain": [
       "<Figure size 640x480 with 1 Axes>"
      ]
     },
     "metadata": {},
     "output_type": "display_data"
    }
   ],
   "source": [
    "feat_imp.sort_values('importance').plot(kind = \"barh\" , title = \"Feature Importances\")"
   ]
  },
  {
   "cell_type": "markdown",
   "metadata": {},
   "source": [
    "# **Using ARIMA model**"
   ]
  },
  {
   "cell_type": "code",
   "execution_count": 202,
   "metadata": {
    "execution": {
     "iopub.status.busy": "2025-01-12T21:24:43.035343Z",
     "iopub.status.idle": "2025-01-12T21:24:43.035830Z",
     "shell.execute_reply": "2025-01-12T21:24:43.035602Z",
     "shell.execute_reply.started": "2025-01-12T21:24:43.035585Z"
    },
    "trusted": true
   },
   "outputs": [],
   "source": [
    "arima = auto_arima(Y_train , stepwise = False , seasonal = False , exogenous=X_train)"
   ]
  },
  {
   "cell_type": "code",
   "execution_count": 203,
   "metadata": {
    "execution": {
     "iopub.status.busy": "2025-01-12T21:24:43.037124Z",
     "iopub.status.idle": "2025-01-12T21:24:43.037513Z",
     "shell.execute_reply": "2025-01-12T21:24:43.037353Z",
     "shell.execute_reply.started": "2025-01-12T21:24:43.037337Z"
    },
    "trusted": true
   },
   "outputs": [
    {
     "data": {
      "text/html": [
       "<style>#sk-container-id-21 {color: black;background-color: white;}#sk-container-id-21 pre{padding: 0;}#sk-container-id-21 div.sk-toggleable {background-color: white;}#sk-container-id-21 label.sk-toggleable__label {cursor: pointer;display: block;width: 100%;margin-bottom: 0;padding: 0.3em;box-sizing: border-box;text-align: center;}#sk-container-id-21 label.sk-toggleable__label-arrow:before {content: \"▸\";float: left;margin-right: 0.25em;color: #696969;}#sk-container-id-21 label.sk-toggleable__label-arrow:hover:before {color: black;}#sk-container-id-21 div.sk-estimator:hover label.sk-toggleable__label-arrow:before {color: black;}#sk-container-id-21 div.sk-toggleable__content {max-height: 0;max-width: 0;overflow: hidden;text-align: left;background-color: #f0f8ff;}#sk-container-id-21 div.sk-toggleable__content pre {margin: 0.2em;color: black;border-radius: 0.25em;background-color: #f0f8ff;}#sk-container-id-21 input.sk-toggleable__control:checked~div.sk-toggleable__content {max-height: 200px;max-width: 100%;overflow: auto;}#sk-container-id-21 input.sk-toggleable__control:checked~label.sk-toggleable__label-arrow:before {content: \"▾\";}#sk-container-id-21 div.sk-estimator input.sk-toggleable__control:checked~label.sk-toggleable__label {background-color: #d4ebff;}#sk-container-id-21 div.sk-label input.sk-toggleable__control:checked~label.sk-toggleable__label {background-color: #d4ebff;}#sk-container-id-21 input.sk-hidden--visually {border: 0;clip: rect(1px 1px 1px 1px);clip: rect(1px, 1px, 1px, 1px);height: 1px;margin: -1px;overflow: hidden;padding: 0;position: absolute;width: 1px;}#sk-container-id-21 div.sk-estimator {font-family: monospace;background-color: #f0f8ff;border: 1px dotted black;border-radius: 0.25em;box-sizing: border-box;margin-bottom: 0.5em;}#sk-container-id-21 div.sk-estimator:hover {background-color: #d4ebff;}#sk-container-id-21 div.sk-parallel-item::after {content: \"\";width: 100%;border-bottom: 1px solid gray;flex-grow: 1;}#sk-container-id-21 div.sk-label:hover label.sk-toggleable__label {background-color: #d4ebff;}#sk-container-id-21 div.sk-serial::before {content: \"\";position: absolute;border-left: 1px solid gray;box-sizing: border-box;top: 0;bottom: 0;left: 50%;z-index: 0;}#sk-container-id-21 div.sk-serial {display: flex;flex-direction: column;align-items: center;background-color: white;padding-right: 0.2em;padding-left: 0.2em;position: relative;}#sk-container-id-21 div.sk-item {position: relative;z-index: 1;}#sk-container-id-21 div.sk-parallel {display: flex;align-items: stretch;justify-content: center;background-color: white;position: relative;}#sk-container-id-21 div.sk-item::before, #sk-container-id-21 div.sk-parallel-item::before {content: \"\";position: absolute;border-left: 1px solid gray;box-sizing: border-box;top: 0;bottom: 0;left: 50%;z-index: -1;}#sk-container-id-21 div.sk-parallel-item {display: flex;flex-direction: column;z-index: 1;position: relative;background-color: white;}#sk-container-id-21 div.sk-parallel-item:first-child::after {align-self: flex-end;width: 50%;}#sk-container-id-21 div.sk-parallel-item:last-child::after {align-self: flex-start;width: 50%;}#sk-container-id-21 div.sk-parallel-item:only-child::after {width: 0;}#sk-container-id-21 div.sk-dashed-wrapped {border: 1px dashed gray;margin: 0 0.4em 0.5em 0.4em;box-sizing: border-box;padding-bottom: 0.4em;background-color: white;}#sk-container-id-21 div.sk-label label {font-family: monospace;font-weight: bold;display: inline-block;line-height: 1.2em;}#sk-container-id-21 div.sk-label-container {text-align: center;}#sk-container-id-21 div.sk-container {/* jupyter's `normalize.less` sets `[hidden] { display: none; }` but bootstrap.min.css set `[hidden] { display: none !important; }` so we also need the `!important` here to be able to override the default hidden behavior on the sphinx rendered scikit-learn.org. See: https://github.com/scikit-learn/scikit-learn/issues/21755 */display: inline-block !important;position: relative;}#sk-container-id-21 div.sk-text-repr-fallback {display: none;}</style><div id=\"sk-container-id-21\" class=\"sk-top-container\"><div class=\"sk-text-repr-fallback\"><pre> ARIMA(0,1,0)(0,0,0)[0] intercept</pre><b>In a Jupyter environment, please rerun this cell to show the HTML representation or trust the notebook. <br />On GitHub, the HTML representation is unable to render, please try loading this page with nbviewer.org.</b></div><div class=\"sk-container\" hidden><div class=\"sk-item\"><div class=\"sk-estimator sk-toggleable\"><input class=\"sk-toggleable__control sk-hidden--visually\" id=\"sk-estimator-id-25\" type=\"checkbox\" checked><label for=\"sk-estimator-id-25\" class=\"sk-toggleable__label sk-toggleable__label-arrow\">ARIMA</label><div class=\"sk-toggleable__content\"><pre> ARIMA(0,1,0)(0,0,0)[0] intercept</pre></div></div></div></div></div>"
      ],
      "text/plain": [
       "ARIMA(order=(0, 1, 0), scoring_args={}, suppress_warnings=True)"
      ]
     },
     "execution_count": 203,
     "metadata": {},
     "output_type": "execute_result"
    }
   ],
   "source": [
    "arima"
   ]
  },
  {
   "cell_type": "code",
   "execution_count": 204,
   "metadata": {
    "execution": {
     "iopub.status.busy": "2025-01-12T21:24:43.038731Z",
     "iopub.status.idle": "2025-01-12T21:24:43.039131Z",
     "shell.execute_reply": "2025-01-12T21:24:43.038977Z",
     "shell.execute_reply.started": "2025-01-12T21:24:43.038960Z"
    },
    "trusted": true
   },
   "outputs": [
    {
     "data": {
      "text/html": [
       "<table class=\"simpletable\">\n",
       "<caption>SARIMAX Results</caption>\n",
       "<tr>\n",
       "  <th>Dep. Variable:</th>           <td>y</td>        <th>  No. Observations:  </th>    <td>12224</td>  \n",
       "</tr>\n",
       "<tr>\n",
       "  <th>Model:</th>           <td>SARIMAX(0, 1, 0)</td> <th>  Log Likelihood     </th>  <td>35681.322</td>\n",
       "</tr>\n",
       "<tr>\n",
       "  <th>Date:</th>            <td>Mon, 13 Jan 2025</td> <th>  AIC                </th> <td>-71358.644</td>\n",
       "</tr>\n",
       "<tr>\n",
       "  <th>Time:</th>                <td>11:18:10</td>     <th>  BIC                </th> <td>-71343.822</td>\n",
       "</tr>\n",
       "<tr>\n",
       "  <th>Sample:</th>             <td>01-01-1980</td>    <th>  HQIC               </th> <td>-71353.676</td>\n",
       "</tr>\n",
       "<tr>\n",
       "  <th></th>                   <td>- 06-19-2013</td>   <th>                     </th>      <td> </td>    \n",
       "</tr>\n",
       "<tr>\n",
       "  <th>Covariance Type:</th>        <td>opg</td>       <th>                     </th>      <td> </td>    \n",
       "</tr>\n",
       "</table>\n",
       "<table class=\"simpletable\">\n",
       "<tr>\n",
       "      <td></td>         <th>coef</th>     <th>std err</th>      <th>z</th>      <th>P>|z|</th>  <th>[0.025</th>    <th>0.975]</th>  \n",
       "</tr>\n",
       "<tr>\n",
       "  <th>intercept</th> <td> 3.119e-05</td> <td>    0.000</td> <td>    0.264</td> <td> 0.792</td> <td>   -0.000</td> <td>    0.000</td>\n",
       "</tr>\n",
       "<tr>\n",
       "  <th>sigma2</th>    <td>    0.0002</td> <td> 2.91e-07</td> <td>  586.252</td> <td> 0.000</td> <td>    0.000</td> <td>    0.000</td>\n",
       "</tr>\n",
       "</table>\n",
       "<table class=\"simpletable\">\n",
       "<tr>\n",
       "  <th>Ljung-Box (L1) (Q):</th>     <td>0.00</td> <th>  Jarque-Bera (JB):  </th> <td>6221585.68</td>\n",
       "</tr>\n",
       "<tr>\n",
       "  <th>Prob(Q):</th>                <td>1.00</td> <th>  Prob(JB):          </th>    <td>0.00</td>   \n",
       "</tr>\n",
       "<tr>\n",
       "  <th>Heteroskedasticity (H):</th> <td>1.09</td> <th>  Skew:              </th>    <td>-0.23</td>  \n",
       "</tr>\n",
       "<tr>\n",
       "  <th>Prob(H) (two-sided):</th>    <td>0.00</td> <th>  Kurtosis:          </th>   <td>113.53</td>  \n",
       "</tr>\n",
       "</table><br/><br/>Warnings:<br/>[1] Covariance matrix calculated using the outer product of gradients (complex-step)."
      ],
      "text/latex": [
       "\\begin{center}\n",
       "\\begin{tabular}{lclc}\n",
       "\\toprule\n",
       "\\textbf{Dep. Variable:}          &        y         & \\textbf{  No. Observations:  } &   12224     \\\\\n",
       "\\textbf{Model:}                  & SARIMAX(0, 1, 0) & \\textbf{  Log Likelihood     } & 35681.322   \\\\\n",
       "\\textbf{Date:}                   & Mon, 13 Jan 2025 & \\textbf{  AIC                } & -71358.644  \\\\\n",
       "\\textbf{Time:}                   &     11:18:10     & \\textbf{  BIC                } & -71343.822  \\\\\n",
       "\\textbf{Sample:}                 &    01-01-1980    & \\textbf{  HQIC               } & -71353.676  \\\\\n",
       "\\textbf{}                        &   - 06-19-2013   & \\textbf{                     } &             \\\\\n",
       "\\textbf{Covariance Type:}        &       opg        & \\textbf{                     } &             \\\\\n",
       "\\bottomrule\n",
       "\\end{tabular}\n",
       "\\begin{tabular}{lcccccc}\n",
       "                   & \\textbf{coef} & \\textbf{std err} & \\textbf{z} & \\textbf{P$> |$z$|$} & \\textbf{[0.025} & \\textbf{0.975]}  \\\\\n",
       "\\midrule\n",
       "\\textbf{intercept} &    3.119e-05  &        0.000     &     0.264  &         0.792        &       -0.000    &        0.000     \\\\\n",
       "\\textbf{sigma2}    &       0.0002  &     2.91e-07     &   586.252  &         0.000        &        0.000    &        0.000     \\\\\n",
       "\\bottomrule\n",
       "\\end{tabular}\n",
       "\\begin{tabular}{lclc}\n",
       "\\textbf{Ljung-Box (L1) (Q):}     & 0.00 & \\textbf{  Jarque-Bera (JB):  } & 6221585.68  \\\\\n",
       "\\textbf{Prob(Q):}                & 1.00 & \\textbf{  Prob(JB):          } &    0.00     \\\\\n",
       "\\textbf{Heteroskedasticity (H):} & 1.09 & \\textbf{  Skew:              } &   -0.23     \\\\\n",
       "\\textbf{Prob(H) (two-sided):}    & 0.00 & \\textbf{  Kurtosis:          } &   113.53    \\\\\n",
       "\\bottomrule\n",
       "\\end{tabular}\n",
       "%\\caption{SARIMAX Results}\n",
       "\\end{center}\n",
       "\n",
       "Warnings: \\newline\n",
       " [1] Covariance matrix calculated using the outer product of gradients (complex-step)."
      ],
      "text/plain": [
       "<class 'statsmodels.iolib.summary.Summary'>\n",
       "\"\"\"\n",
       "                               SARIMAX Results                                \n",
       "==============================================================================\n",
       "Dep. Variable:                      y   No. Observations:                12224\n",
       "Model:               SARIMAX(0, 1, 0)   Log Likelihood               35681.322\n",
       "Date:                Mon, 13 Jan 2025   AIC                         -71358.644\n",
       "Time:                        11:18:10   BIC                         -71343.822\n",
       "Sample:                    01-01-1980   HQIC                        -71353.676\n",
       "                         - 06-19-2013                                         \n",
       "Covariance Type:                  opg                                         \n",
       "==============================================================================\n",
       "                 coef    std err          z      P>|z|      [0.025      0.975]\n",
       "------------------------------------------------------------------------------\n",
       "intercept   3.119e-05      0.000      0.264      0.792      -0.000       0.000\n",
       "sigma2         0.0002   2.91e-07    586.252      0.000       0.000       0.000\n",
       "===================================================================================\n",
       "Ljung-Box (L1) (Q):                   0.00   Jarque-Bera (JB):           6221585.68\n",
       "Prob(Q):                              1.00   Prob(JB):                         0.00\n",
       "Heteroskedasticity (H):               1.09   Skew:                            -0.23\n",
       "Prob(H) (two-sided):                  0.00   Kurtosis:                       113.53\n",
       "===================================================================================\n",
       "\n",
       "Warnings:\n",
       "[1] Covariance matrix calculated using the outer product of gradients (complex-step).\n",
       "\"\"\""
      ]
     },
     "execution_count": 204,
     "metadata": {},
     "output_type": "execute_result"
    }
   ],
   "source": [
    "arima.summary()\n",
    "#arima.fit(Y_train)"
   ]
  },
  {
   "cell_type": "code",
   "execution_count": 205,
   "metadata": {
    "execution": {
     "iopub.status.busy": "2025-01-12T21:24:43.040801Z",
     "iopub.status.idle": "2025-01-12T21:24:43.041463Z",
     "shell.execute_reply": "2025-01-12T21:24:43.041183Z",
     "shell.execute_reply.started": "2025-01-12T21:24:43.041157Z"
    },
    "trusted": true
   },
   "outputs": [
    {
     "data": {
      "text/plain": [
       "3.6476242574090674"
      ]
     },
     "execution_count": 205,
     "metadata": {},
     "output_type": "execute_result"
    }
   ],
   "source": [
    "Y_pred_arima = arima.predict(n_periods = len(X_test))\n",
    "Y_pred_arima = scaler.inverse_transform(Y_pred_arima.values.reshape(-1, 1))\n",
    "Y_test_arima = scaler.inverse_transform(Y_test)\n",
    "mean_squared_error(Y_test_arima , Y_pred_arima)"
   ]
  },
  {
   "cell_type": "code",
   "execution_count": 206,
   "metadata": {
    "execution": {
     "iopub.status.busy": "2025-01-12T21:24:43.043000Z",
     "iopub.status.idle": "2025-01-12T21:24:43.043542Z",
     "shell.execute_reply": "2025-01-12T21:24:43.043311Z",
     "shell.execute_reply.started": "2025-01-12T21:24:43.043288Z"
    },
    "trusted": true
   },
   "outputs": [
    {
     "data": {
      "image/png": "[encoded data removed]",
      "text/plain": [
       "<Figure size 640x480 with 1 Axes>"
      ]
     },
     "metadata": {},
     "output_type": "display_data"
    }
   ],
   "source": [
    "#plt.plot(df.iloc[:cut_off][\"Date\"] , df.iloc[:cut_off][\"Value\"] , color='blue', label='X_train')\n",
    "plt.plot(df.index[cut_off:] , Y_test_arima , color='blue', label='X_test')\n",
    "plt.plot(df.index[cut_off:] , Y_pred_arima , color='orange', label='Prediction')\n",
    "plt.xlabel('Time')\n",
    "plt.ylabel('Data')\n",
    "plt.title('True And Predicted Value')\n",
    "plt.legend()\n",
    "plt.show()"
   ]
  },
  {
   "cell_type": "code",
   "execution_count": 207,
   "metadata": {
    "execution": {
     "iopub.status.busy": "2025-01-12T21:24:43.045860Z",
     "iopub.status.idle": "2025-01-12T21:24:43.046418Z",
     "shell.execute_reply": "2025-01-12T21:24:43.046175Z",
     "shell.execute_reply.started": "2025-01-12T21:24:43.046150Z"
    },
    "trusted": true
   },
   "outputs": [
    {
     "data": {
      "text/plain": [
       "((3057, 1), (3057, 1))"
      ]
     },
     "execution_count": 207,
     "metadata": {},
     "output_type": "execute_result"
    }
   ],
   "source": [
    "Y_test_arima.shape , Y_pred_arima.shape"
   ]
  },
  {
   "cell_type": "code",
   "execution_count": 208,
   "metadata": {
    "execution": {
     "iopub.status.busy": "2025-01-12T21:24:43.048535Z",
     "iopub.status.idle": "2025-01-12T21:24:43.049136Z",
     "shell.execute_reply": "2025-01-12T21:24:43.048858Z",
     "shell.execute_reply.started": "2025-01-12T21:24:43.048834Z"
    },
    "trusted": true
   },
   "outputs": [
    {
     "data": {
      "text/html": [
       "<div>\n",
       "<style scoped>\n",
       "    .dataframe tbody tr th:only-of-type {\n",
       "        vertical-align: middle;\n",
       "    }\n",
       "\n",
       "    .dataframe tbody tr th {\n",
       "        vertical-align: top;\n",
       "    }\n",
       "\n",
       "    .dataframe thead th {\n",
       "        text-align: right;\n",
       "    }\n",
       "</style>\n",
       "<table border=\"1\" class=\"dataframe\">\n",
       "  <thead>\n",
       "    <tr style=\"text-align: right;\">\n",
       "      <th></th>\n",
       "      <th>True</th>\n",
       "      <th>Predicted</th>\n",
       "    </tr>\n",
       "  </thead>\n",
       "  <tbody>\n",
       "    <tr>\n",
       "      <th>0</th>\n",
       "      <td>1.675195</td>\n",
       "      <td>1.675327</td>\n",
       "    </tr>\n",
       "    <tr>\n",
       "      <th>1</th>\n",
       "      <td>1.675195</td>\n",
       "      <td>1.675459</td>\n",
       "    </tr>\n",
       "    <tr>\n",
       "      <th>2</th>\n",
       "      <td>1.675195</td>\n",
       "      <td>1.675591</td>\n",
       "    </tr>\n",
       "    <tr>\n",
       "      <th>3</th>\n",
       "      <td>1.675195</td>\n",
       "      <td>1.675723</td>\n",
       "    </tr>\n",
       "    <tr>\n",
       "      <th>4</th>\n",
       "      <td>1.675195</td>\n",
       "      <td>1.675855</td>\n",
       "    </tr>\n",
       "    <tr>\n",
       "      <th>...</th>\n",
       "      <td>...</td>\n",
       "      <td>...</td>\n",
       "    </tr>\n",
       "    <tr>\n",
       "      <th>3052</th>\n",
       "      <td>0.716998</td>\n",
       "      <td>2.078241</td>\n",
       "    </tr>\n",
       "    <tr>\n",
       "      <th>3053</th>\n",
       "      <td>0.716998</td>\n",
       "      <td>2.078373</td>\n",
       "    </tr>\n",
       "    <tr>\n",
       "      <th>3054</th>\n",
       "      <td>0.716998</td>\n",
       "      <td>2.078505</td>\n",
       "    </tr>\n",
       "    <tr>\n",
       "      <th>3055</th>\n",
       "      <td>0.716998</td>\n",
       "      <td>2.078637</td>\n",
       "    </tr>\n",
       "    <tr>\n",
       "      <th>3056</th>\n",
       "      <td>0.528394</td>\n",
       "      <td>2.078769</td>\n",
       "    </tr>\n",
       "  </tbody>\n",
       "</table>\n",
       "<p>3057 rows × 2 columns</p>\n",
       "</div>"
      ],
      "text/plain": [
       "          True  Predicted\n",
       "0     1.675195   1.675327\n",
       "1     1.675195   1.675459\n",
       "2     1.675195   1.675591\n",
       "3     1.675195   1.675723\n",
       "4     1.675195   1.675855\n",
       "...        ...        ...\n",
       "3052  0.716998   2.078241\n",
       "3053  0.716998   2.078373\n",
       "3054  0.716998   2.078505\n",
       "3055  0.716998   2.078637\n",
       "3056  0.528394   2.078769\n",
       "\n",
       "[3057 rows x 2 columns]"
      ]
     },
     "execution_count": 208,
     "metadata": {},
     "output_type": "execute_result"
    }
   ],
   "source": [
    "# The difference between true and predicted values in ARIMA\n",
    "res_arima = pd.DataFrame({\"True\": Y_test_arima.flatten() , \n",
    "                          \"Predicted\": Y_pred_arima.flatten()})\n",
    "res_arima"
   ]
  },
  {
   "cell_type": "markdown",
   "metadata": {},
   "source": [
    "# **Using LSTM**"
   ]
  },
  {
   "cell_type": "code",
   "execution_count": 209,
   "metadata": {
    "execution": {
     "iopub.status.busy": "2025-01-12T21:24:43.051200Z",
     "iopub.status.idle": "2025-01-12T21:24:43.051744Z",
     "shell.execute_reply": "2025-01-12T21:24:43.051489Z",
     "shell.execute_reply.started": "2025-01-12T21:24:43.051465Z"
    },
    "trusted": true
   },
   "outputs": [
    {
     "ename": "FileNotFoundError",
     "evalue": "[Errno 2] No such file or directory: 'kaggle/input/DataChar.csv'",
     "output_type": "error",
     "traceback": [
      "\u001b[0;31m---------------------------------------------------------------------------\u001b[0m",
      "\u001b[0;31mFileNotFoundError\u001b[0m                         Traceback (most recent call last)",
      "Cell \u001b[0;32mIn[209], line 1\u001b[0m\n\u001b[0;32m----> 1\u001b[0m df_lstm \u001b[38;5;241m=\u001b[39m \u001b[43mpd\u001b[49m\u001b[38;5;241;43m.\u001b[39;49m\u001b[43mread_csv\u001b[49m\u001b[43m(\u001b[49m\u001b[38;5;124;43m\"\u001b[39;49m\u001b[38;5;124;43mkaggle/input/DataChar.csv\u001b[39;49m\u001b[38;5;124;43m\"\u001b[39;49m\u001b[43m)\u001b[49m\n",
      "File \u001b[0;32m~/miniconda3/envs/myenv/lib/python3.10/site-packages/pandas/util/_decorators.py:211\u001b[0m, in \u001b[0;36mdeprecate_kwarg.<locals>._deprecate_kwarg.<locals>.wrapper\u001b[0;34m(*args, **kwargs)\u001b[0m\n\u001b[1;32m    209\u001b[0m     \u001b[38;5;28;01melse\u001b[39;00m:\n\u001b[1;32m    210\u001b[0m         kwargs[new_arg_name] \u001b[38;5;241m=\u001b[39m new_arg_value\n\u001b[0;32m--> 211\u001b[0m \u001b[38;5;28;01mreturn\u001b[39;00m \u001b[43mfunc\u001b[49m\u001b[43m(\u001b[49m\u001b[38;5;241;43m*\u001b[39;49m\u001b[43margs\u001b[49m\u001b[43m,\u001b[49m\u001b[43m \u001b[49m\u001b[38;5;241;43m*\u001b[39;49m\u001b[38;5;241;43m*\u001b[39;49m\u001b[43mkwargs\u001b[49m\u001b[43m)\u001b[49m\n",
      "File \u001b[0;32m~/miniconda3/envs/myenv/lib/python3.10/site-packages/pandas/util/_decorators.py:331\u001b[0m, in \u001b[0;36mdeprecate_nonkeyword_arguments.<locals>.decorate.<locals>.wrapper\u001b[0;34m(*args, **kwargs)\u001b[0m\n\u001b[1;32m    325\u001b[0m \u001b[38;5;28;01mif\u001b[39;00m \u001b[38;5;28mlen\u001b[39m(args) \u001b[38;5;241m>\u001b[39m num_allow_args:\n\u001b[1;32m    326\u001b[0m     warnings\u001b[38;5;241m.\u001b[39mwarn(\n\u001b[1;32m    327\u001b[0m         msg\u001b[38;5;241m.\u001b[39mformat(arguments\u001b[38;5;241m=\u001b[39m_format_argument_list(allow_args)),\n\u001b[1;32m    328\u001b[0m         \u001b[38;5;167;01mFutureWarning\u001b[39;00m,\n\u001b[1;32m    329\u001b[0m         stacklevel\u001b[38;5;241m=\u001b[39mfind_stack_level(),\n\u001b[1;32m    330\u001b[0m     )\n\u001b[0;32m--> 331\u001b[0m \u001b[38;5;28;01mreturn\u001b[39;00m \u001b[43mfunc\u001b[49m\u001b[43m(\u001b[49m\u001b[38;5;241;43m*\u001b[39;49m\u001b[43margs\u001b[49m\u001b[43m,\u001b[49m\u001b[43m \u001b[49m\u001b[38;5;241;43m*\u001b[39;49m\u001b[38;5;241;43m*\u001b[39;49m\u001b[43mkwargs\u001b[49m\u001b[43m)\u001b[49m\n",
      "File \u001b[0;32m~/miniconda3/envs/myenv/lib/python3.10/site-packages/pandas/io/parsers/readers.py:950\u001b[0m, in \u001b[0;36mread_csv\u001b[0;34m(filepath_or_buffer, sep, delimiter, header, names, index_col, usecols, squeeze, prefix, mangle_dupe_cols, dtype, engine, converters, true_values, false_values, skipinitialspace, skiprows, skipfooter, nrows, na_values, keep_default_na, na_filter, verbose, skip_blank_lines, parse_dates, infer_datetime_format, keep_date_col, date_parser, dayfirst, cache_dates, iterator, chunksize, compression, thousands, decimal, lineterminator, quotechar, quoting, doublequote, escapechar, comment, encoding, encoding_errors, dialect, error_bad_lines, warn_bad_lines, on_bad_lines, delim_whitespace, low_memory, memory_map, float_precision, storage_options)\u001b[0m\n\u001b[1;32m    935\u001b[0m kwds_defaults \u001b[38;5;241m=\u001b[39m _refine_defaults_read(\n\u001b[1;32m    936\u001b[0m     dialect,\n\u001b[1;32m    937\u001b[0m     delimiter,\n\u001b[0;32m   (...)\u001b[0m\n\u001b[1;32m    946\u001b[0m     defaults\u001b[38;5;241m=\u001b[39m{\u001b[38;5;124m\"\u001b[39m\u001b[38;5;124mdelimiter\u001b[39m\u001b[38;5;124m\"\u001b[39m: \u001b[38;5;124m\"\u001b[39m\u001b[38;5;124m,\u001b[39m\u001b[38;5;124m\"\u001b[39m},\n\u001b[1;32m    947\u001b[0m )\n\u001b[1;32m    948\u001b[0m kwds\u001b[38;5;241m.\u001b[39mupdate(kwds_defaults)\n\u001b[0;32m--> 950\u001b[0m \u001b[38;5;28;01mreturn\u001b[39;00m \u001b[43m_read\u001b[49m\u001b[43m(\u001b[49m\u001b[43mfilepath_or_buffer\u001b[49m\u001b[43m,\u001b[49m\u001b[43m \u001b[49m\u001b[43mkwds\u001b[49m\u001b[43m)\u001b[49m\n",
      "File \u001b[0;32m~/miniconda3/envs/myenv/lib/python3.10/site-packages/pandas/io/parsers/readers.py:605\u001b[0m, in \u001b[0;36m_read\u001b[0;34m(filepath_or_buffer, kwds)\u001b[0m\n\u001b[1;32m    602\u001b[0m _validate_names(kwds\u001b[38;5;241m.\u001b[39mget(\u001b[38;5;124m\"\u001b[39m\u001b[38;5;124mnames\u001b[39m\u001b[38;5;124m\"\u001b[39m, \u001b[38;5;28;01mNone\u001b[39;00m))\n\u001b[1;32m    604\u001b[0m \u001b[38;5;66;03m# Create the parser.\u001b[39;00m\n\u001b[0;32m--> 605\u001b[0m parser \u001b[38;5;241m=\u001b[39m \u001b[43mTextFileReader\u001b[49m\u001b[43m(\u001b[49m\u001b[43mfilepath_or_buffer\u001b[49m\u001b[43m,\u001b[49m\u001b[43m \u001b[49m\u001b[38;5;241;43m*\u001b[39;49m\u001b[38;5;241;43m*\u001b[39;49m\u001b[43mkwds\u001b[49m\u001b[43m)\u001b[49m\n\u001b[1;32m    607\u001b[0m \u001b[38;5;28;01mif\u001b[39;00m chunksize \u001b[38;5;129;01mor\u001b[39;00m iterator:\n\u001b[1;32m    608\u001b[0m     \u001b[38;5;28;01mreturn\u001b[39;00m parser\n",
      "File \u001b[0;32m~/miniconda3/envs/myenv/lib/python3.10/site-packages/pandas/io/parsers/readers.py:1442\u001b[0m, in \u001b[0;36mTextFileReader.__init__\u001b[0;34m(self, f, engine, **kwds)\u001b[0m\n\u001b[1;32m   1439\u001b[0m     \u001b[38;5;28mself\u001b[39m\u001b[38;5;241m.\u001b[39moptions[\u001b[38;5;124m\"\u001b[39m\u001b[38;5;124mhas_index_names\u001b[39m\u001b[38;5;124m\"\u001b[39m] \u001b[38;5;241m=\u001b[39m kwds[\u001b[38;5;124m\"\u001b[39m\u001b[38;5;124mhas_index_names\u001b[39m\u001b[38;5;124m\"\u001b[39m]\n\u001b[1;32m   1441\u001b[0m \u001b[38;5;28mself\u001b[39m\u001b[38;5;241m.\u001b[39mhandles: IOHandles \u001b[38;5;241m|\u001b[39m \u001b[38;5;28;01mNone\u001b[39;00m \u001b[38;5;241m=\u001b[39m \u001b[38;5;28;01mNone\u001b[39;00m\n\u001b[0;32m-> 1442\u001b[0m \u001b[38;5;28mself\u001b[39m\u001b[38;5;241m.\u001b[39m_engine \u001b[38;5;241m=\u001b[39m \u001b[38;5;28;43mself\u001b[39;49m\u001b[38;5;241;43m.\u001b[39;49m\u001b[43m_make_engine\u001b[49m\u001b[43m(\u001b[49m\u001b[43mf\u001b[49m\u001b[43m,\u001b[49m\u001b[43m \u001b[49m\u001b[38;5;28;43mself\u001b[39;49m\u001b[38;5;241;43m.\u001b[39;49m\u001b[43mengine\u001b[49m\u001b[43m)\u001b[49m\n",
      "File \u001b[0;32m~/miniconda3/envs/myenv/lib/python3.10/site-packages/pandas/io/parsers/readers.py:1735\u001b[0m, in \u001b[0;36mTextFileReader._make_engine\u001b[0;34m(self, f, engine)\u001b[0m\n\u001b[1;32m   1733\u001b[0m     \u001b[38;5;28;01mif\u001b[39;00m \u001b[38;5;124m\"\u001b[39m\u001b[38;5;124mb\u001b[39m\u001b[38;5;124m\"\u001b[39m \u001b[38;5;129;01mnot\u001b[39;00m \u001b[38;5;129;01min\u001b[39;00m mode:\n\u001b[1;32m   1734\u001b[0m         mode \u001b[38;5;241m+\u001b[39m\u001b[38;5;241m=\u001b[39m \u001b[38;5;124m\"\u001b[39m\u001b[38;5;124mb\u001b[39m\u001b[38;5;124m\"\u001b[39m\n\u001b[0;32m-> 1735\u001b[0m \u001b[38;5;28mself\u001b[39m\u001b[38;5;241m.\u001b[39mhandles \u001b[38;5;241m=\u001b[39m \u001b[43mget_handle\u001b[49m\u001b[43m(\u001b[49m\n\u001b[1;32m   1736\u001b[0m \u001b[43m    \u001b[49m\u001b[43mf\u001b[49m\u001b[43m,\u001b[49m\n\u001b[1;32m   1737\u001b[0m \u001b[43m    \u001b[49m\u001b[43mmode\u001b[49m\u001b[43m,\u001b[49m\n\u001b[1;32m   1738\u001b[0m \u001b[43m    \u001b[49m\u001b[43mencoding\u001b[49m\u001b[38;5;241;43m=\u001b[39;49m\u001b[38;5;28;43mself\u001b[39;49m\u001b[38;5;241;43m.\u001b[39;49m\u001b[43moptions\u001b[49m\u001b[38;5;241;43m.\u001b[39;49m\u001b[43mget\u001b[49m\u001b[43m(\u001b[49m\u001b[38;5;124;43m\"\u001b[39;49m\u001b[38;5;124;43mencoding\u001b[39;49m\u001b[38;5;124;43m\"\u001b[39;49m\u001b[43m,\u001b[49m\u001b[43m \u001b[49m\u001b[38;5;28;43;01mNone\u001b[39;49;00m\u001b[43m)\u001b[49m\u001b[43m,\u001b[49m\n\u001b[1;32m   1739\u001b[0m \u001b[43m    \u001b[49m\u001b[43mcompression\u001b[49m\u001b[38;5;241;43m=\u001b[39;49m\u001b[38;5;28;43mself\u001b[39;49m\u001b[38;5;241;43m.\u001b[39;49m\u001b[43moptions\u001b[49m\u001b[38;5;241;43m.\u001b[39;49m\u001b[43mget\u001b[49m\u001b[43m(\u001b[49m\u001b[38;5;124;43m\"\u001b[39;49m\u001b[38;5;124;43mcompression\u001b[39;49m\u001b[38;5;124;43m\"\u001b[39;49m\u001b[43m,\u001b[49m\u001b[43m \u001b[49m\u001b[38;5;28;43;01mNone\u001b[39;49;00m\u001b[43m)\u001b[49m\u001b[43m,\u001b[49m\n\u001b[1;32m   1740\u001b[0m \u001b[43m    \u001b[49m\u001b[43mmemory_map\u001b[49m\u001b[38;5;241;43m=\u001b[39;49m\u001b[38;5;28;43mself\u001b[39;49m\u001b[38;5;241;43m.\u001b[39;49m\u001b[43moptions\u001b[49m\u001b[38;5;241;43m.\u001b[39;49m\u001b[43mget\u001b[49m\u001b[43m(\u001b[49m\u001b[38;5;124;43m\"\u001b[39;49m\u001b[38;5;124;43mmemory_map\u001b[39;49m\u001b[38;5;124;43m\"\u001b[39;49m\u001b[43m,\u001b[49m\u001b[43m \u001b[49m\u001b[38;5;28;43;01mFalse\u001b[39;49;00m\u001b[43m)\u001b[49m\u001b[43m,\u001b[49m\n\u001b[1;32m   1741\u001b[0m \u001b[43m    \u001b[49m\u001b[43mis_text\u001b[49m\u001b[38;5;241;43m=\u001b[39;49m\u001b[43mis_text\u001b[49m\u001b[43m,\u001b[49m\n\u001b[1;32m   1742\u001b[0m \u001b[43m    \u001b[49m\u001b[43merrors\u001b[49m\u001b[38;5;241;43m=\u001b[39;49m\u001b[38;5;28;43mself\u001b[39;49m\u001b[38;5;241;43m.\u001b[39;49m\u001b[43moptions\u001b[49m\u001b[38;5;241;43m.\u001b[39;49m\u001b[43mget\u001b[49m\u001b[43m(\u001b[49m\u001b[38;5;124;43m\"\u001b[39;49m\u001b[38;5;124;43mencoding_errors\u001b[39;49m\u001b[38;5;124;43m\"\u001b[39;49m\u001b[43m,\u001b[49m\u001b[43m \u001b[49m\u001b[38;5;124;43m\"\u001b[39;49m\u001b[38;5;124;43mstrict\u001b[39;49m\u001b[38;5;124;43m\"\u001b[39;49m\u001b[43m)\u001b[49m\u001b[43m,\u001b[49m\n\u001b[1;32m   1743\u001b[0m \u001b[43m    \u001b[49m\u001b[43mstorage_options\u001b[49m\u001b[38;5;241;43m=\u001b[39;49m\u001b[38;5;28;43mself\u001b[39;49m\u001b[38;5;241;43m.\u001b[39;49m\u001b[43moptions\u001b[49m\u001b[38;5;241;43m.\u001b[39;49m\u001b[43mget\u001b[49m\u001b[43m(\u001b[49m\u001b[38;5;124;43m\"\u001b[39;49m\u001b[38;5;124;43mstorage_options\u001b[39;49m\u001b[38;5;124;43m\"\u001b[39;49m\u001b[43m,\u001b[49m\u001b[43m \u001b[49m\u001b[38;5;28;43;01mNone\u001b[39;49;00m\u001b[43m)\u001b[49m\u001b[43m,\u001b[49m\n\u001b[1;32m   1744\u001b[0m \u001b[43m\u001b[49m\u001b[43m)\u001b[49m\n\u001b[1;32m   1745\u001b[0m \u001b[38;5;28;01massert\u001b[39;00m \u001b[38;5;28mself\u001b[39m\u001b[38;5;241m.\u001b[39mhandles \u001b[38;5;129;01mis\u001b[39;00m \u001b[38;5;129;01mnot\u001b[39;00m \u001b[38;5;28;01mNone\u001b[39;00m\n\u001b[1;32m   1746\u001b[0m f \u001b[38;5;241m=\u001b[39m \u001b[38;5;28mself\u001b[39m\u001b[38;5;241m.\u001b[39mhandles\u001b[38;5;241m.\u001b[39mhandle\n",
      "File \u001b[0;32m~/miniconda3/envs/myenv/lib/python3.10/site-packages/pandas/io/common.py:856\u001b[0m, in \u001b[0;36mget_handle\u001b[0;34m(path_or_buf, mode, encoding, compression, memory_map, is_text, errors, storage_options)\u001b[0m\n\u001b[1;32m    851\u001b[0m \u001b[38;5;28;01melif\u001b[39;00m \u001b[38;5;28misinstance\u001b[39m(handle, \u001b[38;5;28mstr\u001b[39m):\n\u001b[1;32m    852\u001b[0m     \u001b[38;5;66;03m# Check whether the filename is to be opened in binary mode.\u001b[39;00m\n\u001b[1;32m    853\u001b[0m     \u001b[38;5;66;03m# Binary mode does not support 'encoding' and 'newline'.\u001b[39;00m\n\u001b[1;32m    854\u001b[0m     \u001b[38;5;28;01mif\u001b[39;00m ioargs\u001b[38;5;241m.\u001b[39mencoding \u001b[38;5;129;01mand\u001b[39;00m \u001b[38;5;124m\"\u001b[39m\u001b[38;5;124mb\u001b[39m\u001b[38;5;124m\"\u001b[39m \u001b[38;5;129;01mnot\u001b[39;00m \u001b[38;5;129;01min\u001b[39;00m ioargs\u001b[38;5;241m.\u001b[39mmode:\n\u001b[1;32m    855\u001b[0m         \u001b[38;5;66;03m# Encoding\u001b[39;00m\n\u001b[0;32m--> 856\u001b[0m         handle \u001b[38;5;241m=\u001b[39m \u001b[38;5;28;43mopen\u001b[39;49m\u001b[43m(\u001b[49m\n\u001b[1;32m    857\u001b[0m \u001b[43m            \u001b[49m\u001b[43mhandle\u001b[49m\u001b[43m,\u001b[49m\n\u001b[1;32m    858\u001b[0m \u001b[43m            \u001b[49m\u001b[43mioargs\u001b[49m\u001b[38;5;241;43m.\u001b[39;49m\u001b[43mmode\u001b[49m\u001b[43m,\u001b[49m\n\u001b[1;32m    859\u001b[0m \u001b[43m            \u001b[49m\u001b[43mencoding\u001b[49m\u001b[38;5;241;43m=\u001b[39;49m\u001b[43mioargs\u001b[49m\u001b[38;5;241;43m.\u001b[39;49m\u001b[43mencoding\u001b[49m\u001b[43m,\u001b[49m\n\u001b[1;32m    860\u001b[0m \u001b[43m            \u001b[49m\u001b[43merrors\u001b[49m\u001b[38;5;241;43m=\u001b[39;49m\u001b[43merrors\u001b[49m\u001b[43m,\u001b[49m\n\u001b[1;32m    861\u001b[0m \u001b[43m            \u001b[49m\u001b[43mnewline\u001b[49m\u001b[38;5;241;43m=\u001b[39;49m\u001b[38;5;124;43m\"\u001b[39;49m\u001b[38;5;124;43m\"\u001b[39;49m\u001b[43m,\u001b[49m\n\u001b[1;32m    862\u001b[0m \u001b[43m        \u001b[49m\u001b[43m)\u001b[49m\n\u001b[1;32m    863\u001b[0m     \u001b[38;5;28;01melse\u001b[39;00m:\n\u001b[1;32m    864\u001b[0m         \u001b[38;5;66;03m# Binary mode\u001b[39;00m\n\u001b[1;32m    865\u001b[0m         handle \u001b[38;5;241m=\u001b[39m \u001b[38;5;28mopen\u001b[39m(handle, ioargs\u001b[38;5;241m.\u001b[39mmode)\n",
      "\u001b[0;31mFileNotFoundError\u001b[0m: [Errno 2] No such file or directory: 'kaggle/input/DataChar.csv'"
     ]
    }
   ],
   "source": [
    "df_lstm = pd.read_csv(\"kaggle/input/DataChar.csv\")"
   ]
  },
  {
   "cell_type": "code",
   "execution_count": 39,
   "metadata": {
    "execution": {
     "iopub.status.busy": "2025-01-12T21:24:43.053461Z",
     "iopub.status.idle": "2025-01-12T21:24:43.054025Z",
     "shell.execute_reply": "2025-01-12T21:24:43.053761Z",
     "shell.execute_reply.started": "2025-01-12T21:24:43.053736Z"
    },
    "trusted": true
   },
   "outputs": [],
   "source": [
    "df_lstm.index = pd.to_datetime(df_lstm['Date'])\n",
    "df_lstm = df_lstm[\"Value\"].resample(\"1D\").mean().fillna(method = \"ffill\").to_frame()"
   ]
  },
  {
   "cell_type": "code",
   "execution_count": 40,
   "metadata": {
    "execution": {
     "iopub.status.busy": "2025-01-12T21:24:43.056447Z",
     "iopub.status.idle": "2025-01-12T21:24:43.057005Z",
     "shell.execute_reply": "2025-01-12T21:24:43.056744Z",
     "shell.execute_reply.started": "2025-01-12T21:24:43.056710Z"
    },
    "trusted": true
   },
   "outputs": [
    {
     "data": {
      "text/html": [
       "<div>\n",
       "<style scoped>\n",
       "    .dataframe tbody tr th:only-of-type {\n",
       "        vertical-align: middle;\n",
       "    }\n",
       "\n",
       "    .dataframe tbody tr th {\n",
       "        vertical-align: top;\n",
       "    }\n",
       "\n",
       "    .dataframe thead th {\n",
       "        text-align: right;\n",
       "    }\n",
       "</style>\n",
       "<table border=\"1\" class=\"dataframe\">\n",
       "  <thead>\n",
       "    <tr style=\"text-align: right;\">\n",
       "      <th></th>\n",
       "      <th>Value</th>\n",
       "    </tr>\n",
       "    <tr>\n",
       "      <th>Date</th>\n",
       "      <th></th>\n",
       "    </tr>\n",
       "  </thead>\n",
       "  <tbody>\n",
       "    <tr>\n",
       "      <th>1980-01-01</th>\n",
       "      <td>0.498642</td>\n",
       "    </tr>\n",
       "    <tr>\n",
       "      <th>1980-01-02</th>\n",
       "      <td>0.498642</td>\n",
       "    </tr>\n",
       "    <tr>\n",
       "      <th>1980-01-03</th>\n",
       "      <td>0.498642</td>\n",
       "    </tr>\n",
       "    <tr>\n",
       "      <th>1980-01-04</th>\n",
       "      <td>0.498642</td>\n",
       "    </tr>\n",
       "    <tr>\n",
       "      <th>1980-01-05</th>\n",
       "      <td>0.498642</td>\n",
       "    </tr>\n",
       "  </tbody>\n",
       "</table>\n",
       "</div>"
      ],
      "text/plain": [
       "               Value\n",
       "Date                \n",
       "1980-01-01  0.498642\n",
       "1980-01-02  0.498642\n",
       "1980-01-03  0.498642\n",
       "1980-01-04  0.498642\n",
       "1980-01-05  0.498642"
      ]
     },
     "execution_count": 40,
     "metadata": {},
     "output_type": "execute_result"
    }
   ],
   "source": [
    "df_lstm = scaler.fit_transform(df_lstm)\n",
    "df_lstm = pd.DataFrame(df_lstm)\n",
    "df_lstm.columns = [\"Value\"]\n",
    "df_lstm.index = dates\n",
    "df_lstm.head()"
   ]
  },
  {
   "cell_type": "code",
   "execution_count": 41,
   "metadata": {
    "execution": {
     "iopub.status.busy": "2025-01-12T21:24:43.059382Z",
     "iopub.status.idle": "2025-01-12T21:24:43.059946Z",
     "shell.execute_reply": "2025-01-12T21:24:43.059667Z",
     "shell.execute_reply.started": "2025-01-12T21:24:43.059643Z"
    },
    "trusted": true
   },
   "outputs": [],
   "source": [
    "def df_to_XY(df_lstm , window_size):\n",
    "    \"\"\"\n",
    "        Converting the dataframe into Xs and Ys. Take every window size step and put \n",
    "        it into Xs and Ys.\n",
    "    \"\"\"\n",
    "    df_as_np = df_lstm.to_numpy()\n",
    "    X = []\n",
    "    Y = []\n",
    "    for i in range(len(df_as_np) - window_size):\n",
    "        row = [[a] for a in df_as_np[i : i + window_size]]\n",
    "        X.append(row)\n",
    "        label = df_as_np[i+window_size]\n",
    "        Y.append(label)\n",
    "    return np.array(X) , np.array(Y)"
   ]
  },
  {
   "cell_type": "code",
   "execution_count": 42,
   "metadata": {
    "execution": {
     "iopub.status.busy": "2025-01-12T21:24:43.061313Z",
     "iopub.status.idle": "2025-01-12T21:24:43.061823Z",
     "shell.execute_reply": "2025-01-12T21:24:43.061581Z",
     "shell.execute_reply.started": "2025-01-12T21:24:43.061558Z"
    },
    "trusted": true
   },
   "outputs": [
    {
     "data": {
      "text/plain": [
       "((15251, 30, 1), (15251, 1))"
      ]
     },
     "execution_count": 42,
     "metadata": {},
     "output_type": "execute_result"
    }
   ],
   "source": [
    "window_size = 30\n",
    "X_lstm , Y_lstm = df_to_XY(df_lstm , window_size = window_size)\n",
    "X_lstm = np.reshape(X_lstm, (X_lstm.shape[0] , X_lstm.shape[1] , 1))\n",
    "X_lstm.shape , Y_lstm.shape"
   ]
  },
  {
   "cell_type": "code",
   "execution_count": 43,
   "metadata": {
    "execution": {
     "iopub.status.busy": "2025-01-12T21:24:43.063962Z",
     "iopub.status.idle": "2025-01-12T21:24:43.064474Z",
     "shell.execute_reply": "2025-01-12T21:24:43.064301Z",
     "shell.execute_reply.started": "2025-01-12T21:24:43.064281Z"
    },
    "trusted": true
   },
   "outputs": [],
   "source": [
    "train_size = int(X_lstm.shape[0] * 0.6)\n",
    "val_size   = int(X_lstm.shape[0] * 0.2)\n",
    "test_size  = int(X_lstm.shape[0] * 0.2)"
   ]
  },
  {
   "cell_type": "code",
   "execution_count": 44,
   "metadata": {
    "execution": {
     "iopub.status.busy": "2025-01-12T21:24:43.066336Z",
     "iopub.status.idle": "2025-01-12T21:24:43.066798Z",
     "shell.execute_reply": "2025-01-12T21:24:43.066616Z",
     "shell.execute_reply.started": "2025-01-12T21:24:43.066597Z"
    },
    "trusted": true
   },
   "outputs": [
    {
     "data": {
      "text/plain": [
       "((9150, 30, 1), (9150, 1), (3050, 30, 1), (3050, 1), (3050, 30, 1), (3050, 1))"
      ]
     },
     "execution_count": 44,
     "metadata": {},
     "output_type": "execute_result"
    }
   ],
   "source": [
    "# Slicing data as this time we need train , validation and test sets\n",
    "X_train , Y_train = X_lstm[0 : train_size] , Y_lstm[0 : train_size]\n",
    "X_val   , Y_val   = X_lstm[train_size : train_size + val_size] , Y_lstm[train_size : train_size + val_size]\n",
    "X_test , Y_test   = X_lstm[train_size + val_size : train_size + val_size + test_size] , Y_lstm[train_size + val_size : train_size + val_size + test_size]\n",
    "X_train.shape , Y_train.shape , X_val.shape , Y_val.shape ,X_test.shape , Y_test.shape "
   ]
  },
  {
   "cell_type": "code",
   "execution_count": 45,
   "metadata": {
    "execution": {
     "iopub.status.busy": "2025-01-12T21:24:43.068211Z",
     "iopub.status.idle": "2025-01-12T21:24:43.068609Z",
     "shell.execute_reply": "2025-01-12T21:24:43.068447Z",
     "shell.execute_reply.started": "2025-01-12T21:24:43.068430Z"
    },
    "trusted": true
   },
   "outputs": [
    {
     "name": "stderr",
     "output_type": "stream",
     "text": [
      "2025-01-12 22:43:06.516410: W tensorflow/stream_executor/platform/default/dso_loader.cc:64] Could not load dynamic library 'libcuda.so.1'; dlerror: libcuda.so.1: cannot open shared object file: No such file or directory\n",
      "2025-01-12 22:43:06.516445: W tensorflow/stream_executor/cuda/cuda_driver.cc:263] failed call to cuInit: UNKNOWN ERROR (303)\n",
      "2025-01-12 22:43:06.516470: I tensorflow/stream_executor/cuda/cuda_diagnostics.cc:156] kernel driver does not appear to be running on this host (codespaces-77ae63): /proc/driver/nvidia/version does not exist\n",
      "2025-01-12 22:43:06.516676: I tensorflow/core/platform/cpu_feature_guard.cc:193] This TensorFlow binary is optimized with oneAPI Deep Neural Network Library (oneDNN) to use the following CPU instructions in performance-critical operations:  AVX2 FMA\n",
      "To enable them in other operations, rebuild TensorFlow with the appropriate compiler flags.\n"
     ]
    }
   ],
   "source": [
    "model = Sequential()\n",
    "model.add(LSTM(50 , return_sequences = True , input_shape = (X_train.shape[1] , 1)))\n",
    "model.add(LSTM(64, return_sequences= False))\n",
    "model.add(Dense(32))\n",
    "model.add(Dense(16))\n",
    "model.add(Dense(1))\n",
    "model.compile(optimizer= 'adam', loss= 'mse' , metrics= \"mean_absolute_error\")"
   ]
  },
  {
   "cell_type": "code",
   "execution_count": 46,
   "metadata": {
    "execution": {
     "iopub.status.busy": "2025-01-12T21:24:43.071326Z",
     "iopub.status.idle": "2025-01-12T21:24:43.071828Z",
     "shell.execute_reply": "2025-01-12T21:24:43.071625Z",
     "shell.execute_reply.started": "2025-01-12T21:24:43.071605Z"
    },
    "trusted": true
   },
   "outputs": [
    {
     "name": "stdout",
     "output_type": "stream",
     "text": [
      "Model: \"sequential\"\n",
      "_________________________________________________________________\n",
      " Layer (type)                Output Shape              Param #   \n",
      "=================================================================\n",
      " lstm (LSTM)                 (None, 30, 50)            10400     \n",
      "                                                                 \n",
      " lstm_1 (LSTM)               (None, 64)                29440     \n",
      "                                                                 \n",
      " dense (Dense)               (None, 32)                2080      \n",
      "                                                                 \n",
      " dense_1 (Dense)             (None, 16)                528       \n",
      "                                                                 \n",
      " dense_2 (Dense)             (None, 1)                 17        \n",
      "                                                                 \n",
      "=================================================================\n",
      "Total params: 42,465\n",
      "Trainable params: 42,465\n",
      "Non-trainable params: 0\n",
      "_________________________________________________________________\n"
     ]
    }
   ],
   "source": [
    "model.summary()"
   ]
  },
  {
   "cell_type": "code",
   "execution_count": 47,
   "metadata": {
    "execution": {
     "iopub.status.busy": "2025-01-12T21:24:43.073148Z",
     "iopub.status.idle": "2025-01-12T21:24:43.073540Z",
     "shell.execute_reply": "2025-01-12T21:24:43.073381Z",
     "shell.execute_reply.started": "2025-01-12T21:24:43.073365Z"
    },
    "trusted": true
   },
   "outputs": [
    {
     "name": "stdout",
     "output_type": "stream",
     "text": [
      "Epoch 1/50\n",
      "286/286 [==============================] - 8s 20ms/step - loss: 0.0041 - mean_absolute_error: 0.0286 - val_loss: 0.0010 - val_mean_absolute_error: 0.0165\n",
      "Epoch 2/50\n",
      "286/286 [==============================] - 5s 18ms/step - loss: 6.3808e-04 - mean_absolute_error: 0.0130 - val_loss: 8.0108e-04 - val_mean_absolute_error: 0.0156\n",
      "Epoch 3/50\n",
      "286/286 [==============================] - 5s 18ms/step - loss: 5.0887e-04 - mean_absolute_error: 0.0115 - val_loss: 6.3432e-04 - val_mean_absolute_error: 0.0132\n",
      "Epoch 4/50\n",
      "286/286 [==============================] - 5s 18ms/step - loss: 4.5280e-04 - mean_absolute_error: 0.0114 - val_loss: 4.8349e-04 - val_mean_absolute_error: 0.0082\n",
      "Epoch 5/50\n",
      "286/286 [==============================] - 5s 19ms/step - loss: 3.6802e-04 - mean_absolute_error: 0.0093 - val_loss: 4.1553e-04 - val_mean_absolute_error: 0.0084\n",
      "Epoch 6/50\n",
      "286/286 [==============================] - 5s 19ms/step - loss: 3.2364e-04 - mean_absolute_error: 0.0095 - val_loss: 4.0839e-04 - val_mean_absolute_error: 0.0119\n",
      "Epoch 7/50\n",
      "286/286 [==============================] - 5s 19ms/step - loss: 2.6795e-04 - mean_absolute_error: 0.0078 - val_loss: 2.9359e-04 - val_mean_absolute_error: 0.0050\n",
      "Epoch 8/50\n",
      "286/286 [==============================] - 5s 19ms/step - loss: 2.4820e-04 - mean_absolute_error: 0.0077 - val_loss: 3.0604e-04 - val_mean_absolute_error: 0.0093\n",
      "Epoch 9/50\n",
      "286/286 [==============================] - 5s 18ms/step - loss: 2.3300e-04 - mean_absolute_error: 0.0073 - val_loss: 3.2120e-04 - val_mean_absolute_error: 0.0101\n",
      "Epoch 10/50\n",
      "286/286 [==============================] - 5s 18ms/step - loss: 2.0320e-04 - mean_absolute_error: 0.0063 - val_loss: 2.3944e-04 - val_mean_absolute_error: 0.0051\n",
      "Epoch 11/50\n",
      "286/286 [==============================] - 5s 18ms/step - loss: 1.9760e-04 - mean_absolute_error: 0.0066 - val_loss: 3.4346e-04 - val_mean_absolute_error: 0.0127\n",
      "Epoch 12/50\n",
      "286/286 [==============================] - 5s 18ms/step - loss: 1.9297e-04 - mean_absolute_error: 0.0062 - val_loss: 2.4211e-04 - val_mean_absolute_error: 0.0059\n",
      "Epoch 13/50\n",
      "286/286 [==============================] - 5s 18ms/step - loss: 1.9554e-04 - mean_absolute_error: 0.0065 - val_loss: 3.8234e-04 - val_mean_absolute_error: 0.0143\n",
      "Epoch 14/50\n",
      "286/286 [==============================] - 5s 18ms/step - loss: 1.8493e-04 - mean_absolute_error: 0.0057 - val_loss: 2.3818e-04 - val_mean_absolute_error: 0.0057\n",
      "Epoch 15/50\n",
      "286/286 [==============================] - 5s 18ms/step - loss: 1.9513e-04 - mean_absolute_error: 0.0063 - val_loss: 2.2440e-04 - val_mean_absolute_error: 0.0033\n",
      "Epoch 16/50\n",
      "286/286 [==============================] - 5s 18ms/step - loss: 1.8757e-04 - mean_absolute_error: 0.0060 - val_loss: 2.2411e-04 - val_mean_absolute_error: 0.0031\n",
      "Epoch 17/50\n",
      "286/286 [==============================] - 5s 18ms/step - loss: 1.8228e-04 - mean_absolute_error: 0.0055 - val_loss: 2.3380e-04 - val_mean_absolute_error: 0.0056\n",
      "Epoch 18/50\n",
      "286/286 [==============================] - 5s 18ms/step - loss: 1.9648e-04 - mean_absolute_error: 0.0063 - val_loss: 2.4089e-04 - val_mean_absolute_error: 0.0061\n",
      "Epoch 19/50\n",
      "286/286 [==============================] - 5s 19ms/step - loss: 1.8921e-04 - mean_absolute_error: 0.0061 - val_loss: 2.3050e-04 - val_mean_absolute_error: 0.0050\n",
      "Epoch 20/50\n",
      "286/286 [==============================] - 5s 18ms/step - loss: 1.9712e-04 - mean_absolute_error: 0.0063 - val_loss: 2.2732e-04 - val_mean_absolute_error: 0.0040\n",
      "Epoch 21/50\n",
      "286/286 [==============================] - 5s 18ms/step - loss: 2.0016e-04 - mean_absolute_error: 0.0067 - val_loss: 2.2776e-04 - val_mean_absolute_error: 0.0043\n",
      "Epoch 22/50\n",
      "286/286 [==============================] - 5s 19ms/step - loss: 1.8068e-04 - mean_absolute_error: 0.0054 - val_loss: 2.2722e-04 - val_mean_absolute_error: 0.0038\n",
      "Epoch 23/50\n",
      "286/286 [==============================] - 5s 19ms/step - loss: 2.0321e-04 - mean_absolute_error: 0.0071 - val_loss: 4.4177e-04 - val_mean_absolute_error: 0.0157\n",
      "Epoch 24/50\n",
      "286/286 [==============================] - 5s 19ms/step - loss: 1.9568e-04 - mean_absolute_error: 0.0065 - val_loss: 2.2521e-04 - val_mean_absolute_error: 0.0034\n",
      "Epoch 25/50\n",
      "286/286 [==============================] - 5s 19ms/step - loss: 2.0333e-04 - mean_absolute_error: 0.0068 - val_loss: 2.4933e-04 - val_mean_absolute_error: 0.0067\n",
      "Epoch 26/50\n",
      "286/286 [==============================] - 5s 19ms/step - loss: 1.8528e-04 - mean_absolute_error: 0.0057 - val_loss: 2.9926e-04 - val_mean_absolute_error: 0.0096\n",
      "Epoch 27/50\n",
      "286/286 [==============================] - 6s 19ms/step - loss: 1.8194e-04 - mean_absolute_error: 0.0057 - val_loss: 4.0271e-04 - val_mean_absolute_error: 0.0147\n",
      "Epoch 28/50\n",
      "286/286 [==============================] - 5s 19ms/step - loss: 1.8753e-04 - mean_absolute_error: 0.0060 - val_loss: 2.2870e-04 - val_mean_absolute_error: 0.0047\n",
      "Epoch 29/50\n",
      "286/286 [==============================] - 6s 19ms/step - loss: 1.8627e-04 - mean_absolute_error: 0.0058 - val_loss: 2.3070e-04 - val_mean_absolute_error: 0.0050\n",
      "Epoch 30/50\n",
      "286/286 [==============================] - 6s 19ms/step - loss: 1.8275e-04 - mean_absolute_error: 0.0054 - val_loss: 2.2882e-04 - val_mean_absolute_error: 0.0047\n",
      "Epoch 31/50\n",
      "286/286 [==============================] - 5s 19ms/step - loss: 1.8059e-04 - mean_absolute_error: 0.0054 - val_loss: 4.1471e-04 - val_mean_absolute_error: 0.0154\n",
      "Epoch 32/50\n",
      "286/286 [==============================] - 6s 19ms/step - loss: 1.7971e-04 - mean_absolute_error: 0.0053 - val_loss: 2.2231e-04 - val_mean_absolute_error: 0.0033\n",
      "Epoch 33/50\n",
      "286/286 [==============================] - 5s 19ms/step - loss: 1.8140e-04 - mean_absolute_error: 0.0057 - val_loss: 2.3304e-04 - val_mean_absolute_error: 0.0052\n",
      "Epoch 34/50\n",
      "286/286 [==============================] - 5s 19ms/step - loss: 1.7222e-04 - mean_absolute_error: 0.0050 - val_loss: 2.6843e-04 - val_mean_absolute_error: 0.0089\n",
      "Epoch 35/50\n",
      "286/286 [==============================] - 5s 19ms/step - loss: 1.8220e-04 - mean_absolute_error: 0.0057 - val_loss: 2.3645e-04 - val_mean_absolute_error: 0.0058\n",
      "Epoch 36/50\n",
      "286/286 [==============================] - 5s 19ms/step - loss: 1.8081e-04 - mean_absolute_error: 0.0056 - val_loss: 2.4104e-04 - val_mean_absolute_error: 0.0063\n",
      "Epoch 37/50\n",
      "286/286 [==============================] - 5s 19ms/step - loss: 2.0982e-04 - mean_absolute_error: 0.0073 - val_loss: 2.2418e-04 - val_mean_absolute_error: 0.0041\n",
      "Epoch 38/50\n",
      "286/286 [==============================] - 5s 19ms/step - loss: 1.9050e-04 - mean_absolute_error: 0.0064 - val_loss: 2.2154e-04 - val_mean_absolute_error: 0.0032\n",
      "Epoch 39/50\n",
      "286/286 [==============================] - 5s 19ms/step - loss: 1.7155e-04 - mean_absolute_error: 0.0049 - val_loss: 2.5047e-04 - val_mean_absolute_error: 0.0072\n",
      "Epoch 40/50\n",
      "286/286 [==============================] - 5s 19ms/step - loss: 1.8169e-04 - mean_absolute_error: 0.0059 - val_loss: 2.6053e-04 - val_mean_absolute_error: 0.0080\n",
      "Epoch 41/50\n",
      "286/286 [==============================] - 5s 18ms/step - loss: 1.8579e-04 - mean_absolute_error: 0.0060 - val_loss: 2.2512e-04 - val_mean_absolute_error: 0.0041\n",
      "Epoch 42/50\n",
      "286/286 [==============================] - 5s 18ms/step - loss: 1.6908e-04 - mean_absolute_error: 0.0048 - val_loss: 2.2434e-04 - val_mean_absolute_error: 0.0039\n",
      "Epoch 43/50\n",
      "286/286 [==============================] - 5s 18ms/step - loss: 1.7718e-04 - mean_absolute_error: 0.0054 - val_loss: 2.5890e-04 - val_mean_absolute_error: 0.0072\n",
      "Epoch 44/50\n",
      "286/286 [==============================] - 5s 18ms/step - loss: 1.7200e-04 - mean_absolute_error: 0.0050 - val_loss: 2.8348e-04 - val_mean_absolute_error: 0.0097\n",
      "Epoch 45/50\n",
      "286/286 [==============================] - 5s 18ms/step - loss: 1.7233e-04 - mean_absolute_error: 0.0048 - val_loss: 2.2077e-04 - val_mean_absolute_error: 0.0028\n",
      "Epoch 46/50\n",
      "286/286 [==============================] - 5s 19ms/step - loss: 1.7409e-04 - mean_absolute_error: 0.0050 - val_loss: 2.2601e-04 - val_mean_absolute_error: 0.0046\n",
      "Epoch 47/50\n",
      "286/286 [==============================] - 5s 18ms/step - loss: 1.7036e-04 - mean_absolute_error: 0.0048 - val_loss: 2.3061e-04 - val_mean_absolute_error: 0.0051\n",
      "Epoch 48/50\n",
      "286/286 [==============================] - 5s 19ms/step - loss: 1.8096e-04 - mean_absolute_error: 0.0057 - val_loss: 2.4594e-04 - val_mean_absolute_error: 0.0070\n",
      "Epoch 49/50\n",
      "286/286 [==============================] - 5s 18ms/step - loss: 1.7901e-04 - mean_absolute_error: 0.0053 - val_loss: 2.5010e-04 - val_mean_absolute_error: 0.0071\n",
      "Epoch 50/50\n",
      "286/286 [==============================] - 5s 19ms/step - loss: 1.7706e-04 - mean_absolute_error: 0.0051 - val_loss: 2.7754e-04 - val_mean_absolute_error: 0.0096\n"
     ]
    }
   ],
   "source": [
    "history = model.fit(X_train , Y_train , epochs = 50 ,  \n",
    "                    validation_data = (X_val, Y_val) , batch_size = 32)"
   ]
  },
  {
   "cell_type": "code",
   "execution_count": 48,
   "metadata": {
    "execution": {
     "iopub.status.busy": "2025-01-12T21:24:43.074789Z",
     "iopub.status.idle": "2025-01-12T21:24:43.075213Z",
     "shell.execute_reply": "2025-01-12T21:24:43.075048Z",
     "shell.execute_reply.started": "2025-01-12T21:24:43.075031Z"
    },
    "trusted": true
   },
   "outputs": [
    {
     "data": {
      "text/plain": [
       "DatetimeIndex(['2005-01-19', '2005-01-20', '2005-01-21', '2005-01-22',\n",
       "               '2005-01-23', '2005-01-24', '2005-01-25', '2005-01-26',\n",
       "               '2005-01-27', '2005-01-28',\n",
       "               ...\n",
       "               '2013-05-17', '2013-05-18', '2013-05-19', '2013-05-20',\n",
       "               '2013-05-21', '2013-05-22', '2013-05-23', '2013-05-24',\n",
       "               '2013-05-25', '2013-05-26'],\n",
       "              dtype='datetime64[ns]', name='Date', length=3050, freq='D')"
      ]
     },
     "execution_count": 48,
     "metadata": {},
     "output_type": "execute_result"
    }
   ],
   "source": [
    "df_lstm[train_size : train_size + val_size].index"
   ]
  },
  {
   "cell_type": "code",
   "execution_count": 49,
   "metadata": {
    "execution": {
     "iopub.status.busy": "2025-01-12T21:24:43.077100Z",
     "iopub.status.idle": "2025-01-12T21:24:43.077527Z",
     "shell.execute_reply": "2025-01-12T21:24:43.077361Z",
     "shell.execute_reply.started": "2025-01-12T21:24:43.077338Z"
    },
    "trusted": true
   },
   "outputs": [
    {
     "name": "stdout",
     "output_type": "stream",
     "text": [
      "96/96 [==============================] - 1s 5ms/step\n"
     ]
    },
    {
     "data": {
      "text/html": [
       "<div>\n",
       "<style scoped>\n",
       "    .dataframe tbody tr th:only-of-type {\n",
       "        vertical-align: middle;\n",
       "    }\n",
       "\n",
       "    .dataframe tbody tr th {\n",
       "        vertical-align: top;\n",
       "    }\n",
       "\n",
       "    .dataframe thead th {\n",
       "        text-align: right;\n",
       "    }\n",
       "</style>\n",
       "<table border=\"1\" class=\"dataframe\">\n",
       "  <thead>\n",
       "    <tr style=\"text-align: right;\">\n",
       "      <th></th>\n",
       "      <th>Val Predictions</th>\n",
       "      <th>Actuals</th>\n",
       "    </tr>\n",
       "    <tr>\n",
       "      <th>Date</th>\n",
       "      <th></th>\n",
       "      <th></th>\n",
       "    </tr>\n",
       "  </thead>\n",
       "  <tbody>\n",
       "    <tr>\n",
       "      <th>2005-01-19</th>\n",
       "      <td>-0.412107</td>\n",
       "      <td>-0.443865</td>\n",
       "    </tr>\n",
       "    <tr>\n",
       "      <th>2005-01-20</th>\n",
       "      <td>-0.412038</td>\n",
       "      <td>-0.443865</td>\n",
       "    </tr>\n",
       "    <tr>\n",
       "      <th>2005-01-21</th>\n",
       "      <td>-0.411964</td>\n",
       "      <td>-0.443865</td>\n",
       "    </tr>\n",
       "    <tr>\n",
       "      <th>2005-01-22</th>\n",
       "      <td>-0.411888</td>\n",
       "      <td>-0.443865</td>\n",
       "    </tr>\n",
       "    <tr>\n",
       "      <th>2005-01-23</th>\n",
       "      <td>-0.411813</td>\n",
       "      <td>-0.443865</td>\n",
       "    </tr>\n",
       "    <tr>\n",
       "      <th>...</th>\n",
       "      <td>...</td>\n",
       "      <td>...</td>\n",
       "    </tr>\n",
       "    <tr>\n",
       "      <th>2013-05-22</th>\n",
       "      <td>1.703387</td>\n",
       "      <td>1.675195</td>\n",
       "    </tr>\n",
       "    <tr>\n",
       "      <th>2013-05-23</th>\n",
       "      <td>1.703413</td>\n",
       "      <td>1.675195</td>\n",
       "    </tr>\n",
       "    <tr>\n",
       "      <th>2013-05-24</th>\n",
       "      <td>1.703438</td>\n",
       "      <td>1.675195</td>\n",
       "    </tr>\n",
       "    <tr>\n",
       "      <th>2013-05-25</th>\n",
       "      <td>1.703462</td>\n",
       "      <td>1.675195</td>\n",
       "    </tr>\n",
       "    <tr>\n",
       "      <th>2013-05-26</th>\n",
       "      <td>1.703483</td>\n",
       "      <td>1.675195</td>\n",
       "    </tr>\n",
       "  </tbody>\n",
       "</table>\n",
       "<p>3050 rows × 2 columns</p>\n",
       "</div>"
      ],
      "text/plain": [
       "            Val Predictions   Actuals\n",
       "Date                                 \n",
       "2005-01-19        -0.412107 -0.443865\n",
       "2005-01-20        -0.412038 -0.443865\n",
       "2005-01-21        -0.411964 -0.443865\n",
       "2005-01-22        -0.411888 -0.443865\n",
       "2005-01-23        -0.411813 -0.443865\n",
       "...                     ...       ...\n",
       "2013-05-22         1.703387  1.675195\n",
       "2013-05-23         1.703413  1.675195\n",
       "2013-05-24         1.703438  1.675195\n",
       "2013-05-25         1.703462  1.675195\n",
       "2013-05-26         1.703483  1.675195\n",
       "\n",
       "[3050 rows x 2 columns]"
      ]
     },
     "execution_count": 49,
     "metadata": {},
     "output_type": "execute_result"
    }
   ],
   "source": [
    "val_predictions = model.predict(X_val).flatten()\n",
    "val_predictions = scaler.inverse_transform(val_predictions.reshape(-1, 1))\n",
    "Y_val_lstm = scaler.inverse_transform(Y_val)\n",
    "val_results = pd.DataFrame(index = df_lstm[train_size : train_size + val_size].index , data={'Val Predictions':val_predictions.flatten() , 'Actuals':Y_val_lstm.flatten()})\n",
    "val_results"
   ]
  },
  {
   "cell_type": "code",
   "execution_count": 50,
   "metadata": {
    "execution": {
     "iopub.status.busy": "2025-01-12T21:24:43.079854Z",
     "iopub.status.idle": "2025-01-12T21:24:43.080328Z",
     "shell.execute_reply": "2025-01-12T21:24:43.080157Z",
     "shell.execute_reply.started": "2025-01-12T21:24:43.080139Z"
    },
    "trusted": true
   },
   "outputs": [
    {
     "data": {
      "image/png": "[encoded data removed]",
      "text/plain": [
       "<Figure size 640x480 with 1 Axes>"
      ]
     },
     "metadata": {},
     "output_type": "display_data"
    }
   ],
   "source": [
    "plt.plot(val_results['Val Predictions'])\n",
    "plt.plot(val_results['Actuals'])\n",
    "plt.legend(['Predictions', 'Actuals'])\n",
    "plt.title(\"Validation Actuals VS Predictions\")\n",
    "plt.show()"
   ]
  },
  {
   "cell_type": "code",
   "execution_count": 51,
   "metadata": {
    "execution": {
     "iopub.status.busy": "2025-01-12T21:24:43.082942Z",
     "iopub.status.idle": "2025-01-12T21:24:43.083379Z",
     "shell.execute_reply": "2025-01-12T21:24:43.083215Z",
     "shell.execute_reply.started": "2025-01-12T21:24:43.083198Z"
    },
    "trusted": true
   },
   "outputs": [
    {
     "name": "stdout",
     "output_type": "stream",
     "text": [
      "96/96 [==============================] - 0s 5ms/step\n"
     ]
    },
    {
     "data": {
      "text/html": [
       "<div>\n",
       "<style scoped>\n",
       "    .dataframe tbody tr th:only-of-type {\n",
       "        vertical-align: middle;\n",
       "    }\n",
       "\n",
       "    .dataframe tbody tr th {\n",
       "        vertical-align: top;\n",
       "    }\n",
       "\n",
       "    .dataframe thead th {\n",
       "        text-align: right;\n",
       "    }\n",
       "</style>\n",
       "<table border=\"1\" class=\"dataframe\">\n",
       "  <thead>\n",
       "    <tr style=\"text-align: right;\">\n",
       "      <th></th>\n",
       "      <th>Test Predictions</th>\n",
       "      <th>Actuals</th>\n",
       "    </tr>\n",
       "    <tr>\n",
       "      <th>Date</th>\n",
       "      <th></th>\n",
       "      <th></th>\n",
       "    </tr>\n",
       "  </thead>\n",
       "  <tbody>\n",
       "    <tr>\n",
       "      <th>2013-05-27</th>\n",
       "      <td>1.703503</td>\n",
       "      <td>1.675195</td>\n",
       "    </tr>\n",
       "    <tr>\n",
       "      <th>2013-05-28</th>\n",
       "      <td>1.703520</td>\n",
       "      <td>1.675195</td>\n",
       "    </tr>\n",
       "    <tr>\n",
       "      <th>2013-05-29</th>\n",
       "      <td>1.703534</td>\n",
       "      <td>1.675195</td>\n",
       "    </tr>\n",
       "    <tr>\n",
       "      <th>2013-05-30</th>\n",
       "      <td>1.703546</td>\n",
       "      <td>1.675195</td>\n",
       "    </tr>\n",
       "    <tr>\n",
       "      <th>2013-05-31</th>\n",
       "      <td>1.703557</td>\n",
       "      <td>1.675195</td>\n",
       "    </tr>\n",
       "    <tr>\n",
       "      <th>...</th>\n",
       "      <td>...</td>\n",
       "      <td>...</td>\n",
       "    </tr>\n",
       "    <tr>\n",
       "      <th>2021-09-27</th>\n",
       "      <td>0.750503</td>\n",
       "      <td>0.716998</td>\n",
       "    </tr>\n",
       "    <tr>\n",
       "      <th>2021-09-28</th>\n",
       "      <td>0.750485</td>\n",
       "      <td>0.716998</td>\n",
       "    </tr>\n",
       "    <tr>\n",
       "      <th>2021-09-29</th>\n",
       "      <td>0.750472</td>\n",
       "      <td>0.716998</td>\n",
       "    </tr>\n",
       "    <tr>\n",
       "      <th>2021-09-30</th>\n",
       "      <td>0.750459</td>\n",
       "      <td>0.716998</td>\n",
       "    </tr>\n",
       "    <tr>\n",
       "      <th>2021-10-01</th>\n",
       "      <td>0.750450</td>\n",
       "      <td>0.716998</td>\n",
       "    </tr>\n",
       "  </tbody>\n",
       "</table>\n",
       "<p>3050 rows × 2 columns</p>\n",
       "</div>"
      ],
      "text/plain": [
       "            Test Predictions   Actuals\n",
       "Date                                  \n",
       "2013-05-27          1.703503  1.675195\n",
       "2013-05-28          1.703520  1.675195\n",
       "2013-05-29          1.703534  1.675195\n",
       "2013-05-30          1.703546  1.675195\n",
       "2013-05-31          1.703557  1.675195\n",
       "...                      ...       ...\n",
       "2021-09-27          0.750503  0.716998\n",
       "2021-09-28          0.750485  0.716998\n",
       "2021-09-29          0.750472  0.716998\n",
       "2021-09-30          0.750459  0.716998\n",
       "2021-10-01          0.750450  0.716998\n",
       "\n",
       "[3050 rows x 2 columns]"
      ]
     },
     "execution_count": 51,
     "metadata": {},
     "output_type": "execute_result"
    }
   ],
   "source": [
    "Y_test_lstm = scaler.inverse_transform(Y_test)\n",
    "test_predictions = model.predict(X_test)\n",
    "test_predictions = scaler.inverse_transform(test_predictions)\n",
    "test_results = pd.DataFrame(index = df_lstm[train_size + val_size : train_size + val_size + test_size].index , data={'Test Predictions':test_predictions.flatten() , 'Actuals':Y_test_lstm.flatten()})\n",
    "test_results"
   ]
  },
  {
   "cell_type": "code",
   "execution_count": 52,
   "metadata": {
    "execution": {
     "iopub.status.busy": "2025-01-12T21:24:43.085364Z",
     "iopub.status.idle": "2025-01-12T21:24:43.086021Z",
     "shell.execute_reply": "2025-01-12T21:24:43.085736Z",
     "shell.execute_reply.started": "2025-01-12T21:24:43.085709Z"
    },
    "trusted": true
   },
   "outputs": [
    {
     "data": {
      "image/png": "[encoded data removed]",
      "text/plain": [
       "<Figure size 640x480 with 1 Axes>"
      ]
     },
     "metadata": {},
     "output_type": "display_data"
    }
   ],
   "source": [
    "plt.plot(test_results['Test Predictions'])\n",
    "plt.plot(test_results['Actuals'])\n",
    "plt.legend(['Predictions', 'Actuals'])\n",
    "plt.title(\"Test Actuals VS Predictions\")\n",
    "plt.show()"
   ]
  },
  {
   "cell_type": "code",
   "execution_count": 53,
   "metadata": {
    "execution": {
     "iopub.status.busy": "2025-01-12T21:24:43.087582Z",
     "iopub.status.idle": "2025-01-12T21:24:43.088158Z",
     "shell.execute_reply": "2025-01-12T21:24:43.087918Z",
     "shell.execute_reply.started": "2025-01-12T21:24:43.087892Z"
    },
    "trusted": true
   },
   "outputs": [
    {
     "data": {
      "text/plain": [
       "0.0035988179401603548"
      ]
     },
     "execution_count": 53,
     "metadata": {},
     "output_type": "execute_result"
    }
   ],
   "source": [
    "mean_squared_error(Y_test_lstm , test_predictions)"
   ]
  },
  {
   "cell_type": "markdown",
   "metadata": {},
   "source": [
    "# **DataFrame of each model's predictions along with the actuals \"Test\" set**"
   ]
  },
  {
   "cell_type": "code",
   "execution_count": 54,
   "metadata": {
    "execution": {
     "iopub.status.busy": "2025-01-12T21:24:43.090486Z",
     "iopub.status.idle": "2025-01-12T21:24:43.091087Z",
     "shell.execute_reply": "2025-01-12T21:24:43.090800Z",
     "shell.execute_reply.started": "2025-01-12T21:24:43.090775Z"
    },
    "trusted": true
   },
   "outputs": [
    {
     "data": {
      "text/plain": [
       "(1529, 1)"
      ]
     },
     "execution_count": 54,
     "metadata": {},
     "output_type": "execute_result"
    }
   ],
   "source": [
    "Y_test_lstm.shape , test_predictions.shape , Y_pred_arima.shape , Y_pred_xgb.shape ,\n",
    "Y_pred_lr.shape"
   ]
  },
  {
   "cell_type": "code",
   "execution_count": 55,
   "metadata": {
    "execution": {
     "iopub.status.busy": "2025-01-12T21:24:43.093748Z",
     "iopub.status.idle": "2025-01-12T21:24:43.094325Z",
     "shell.execute_reply": "2025-01-12T21:24:43.094074Z",
     "shell.execute_reply.started": "2025-01-12T21:24:43.094050Z"
    },
    "trusted": true
   },
   "outputs": [
    {
     "data": {
      "text/plain": [
       "((1529, 1), (1529, 1), (1529, 1))"
      ]
     },
     "execution_count": 55,
     "metadata": {},
     "output_type": "execute_result"
    }
   ],
   "source": [
    "Y_test_lstm[-Y_pred_arima.shape[0]:].shape , test_predictions[-Y_pred_arima.shape[0]:].shape ,\n",
    "Y_pred_arima.shape , Y_pred_xgb.shape , Y_pred_lr.shape"
   ]
  },
  {
   "cell_type": "code",
   "execution_count": 56,
   "metadata": {
    "execution": {
     "iopub.status.busy": "2025-01-12T21:24:43.096285Z",
     "iopub.status.idle": "2025-01-12T21:24:43.097046Z",
     "shell.execute_reply": "2025-01-12T21:24:43.096579Z",
     "shell.execute_reply.started": "2025-01-12T21:24:43.096555Z"
    },
    "trusted": true
   },
   "outputs": [
    {
     "data": {
      "text/html": [
       "<div>\n",
       "<style scoped>\n",
       "    .dataframe tbody tr th:only-of-type {\n",
       "        vertical-align: middle;\n",
       "    }\n",
       "\n",
       "    .dataframe tbody tr th {\n",
       "        vertical-align: top;\n",
       "    }\n",
       "\n",
       "    .dataframe thead th {\n",
       "        text-align: right;\n",
       "    }\n",
       "</style>\n",
       "<table border=\"1\" class=\"dataframe\">\n",
       "  <thead>\n",
       "    <tr style=\"text-align: right;\">\n",
       "      <th></th>\n",
       "      <th>Actuals</th>\n",
       "      <th>LSTM Predictions</th>\n",
       "      <th>ARIMA Predictions</th>\n",
       "      <th>XGB Predictions</th>\n",
       "      <th>LR Predictions</th>\n",
       "    </tr>\n",
       "    <tr>\n",
       "      <th>Date</th>\n",
       "      <th></th>\n",
       "      <th></th>\n",
       "      <th></th>\n",
       "      <th></th>\n",
       "      <th></th>\n",
       "    </tr>\n",
       "  </thead>\n",
       "  <tbody>\n",
       "    <tr>\n",
       "      <th>2017-08-26</th>\n",
       "      <td>-0.894919</td>\n",
       "      <td>-0.862379</td>\n",
       "      <td>-0.894989</td>\n",
       "      <td>-0.824185</td>\n",
       "      <td>0.064427</td>\n",
       "    </tr>\n",
       "    <tr>\n",
       "      <th>2017-08-27</th>\n",
       "      <td>-0.894919</td>\n",
       "      <td>-0.862378</td>\n",
       "      <td>-0.895058</td>\n",
       "      <td>-0.824185</td>\n",
       "      <td>0.064438</td>\n",
       "    </tr>\n",
       "    <tr>\n",
       "      <th>2017-08-28</th>\n",
       "      <td>-0.894919</td>\n",
       "      <td>-0.862377</td>\n",
       "      <td>-0.895128</td>\n",
       "      <td>-0.824185</td>\n",
       "      <td>0.064449</td>\n",
       "    </tr>\n",
       "    <tr>\n",
       "      <th>2017-08-29</th>\n",
       "      <td>-0.894919</td>\n",
       "      <td>-0.862376</td>\n",
       "      <td>-0.895197</td>\n",
       "      <td>-0.824185</td>\n",
       "      <td>0.064461</td>\n",
       "    </tr>\n",
       "    <tr>\n",
       "      <th>2017-08-30</th>\n",
       "      <td>-0.894919</td>\n",
       "      <td>-0.862376</td>\n",
       "      <td>-0.895267</td>\n",
       "      <td>-0.824185</td>\n",
       "      <td>0.064472</td>\n",
       "    </tr>\n",
       "    <tr>\n",
       "      <th>...</th>\n",
       "      <td>...</td>\n",
       "      <td>...</td>\n",
       "      <td>...</td>\n",
       "      <td>...</td>\n",
       "      <td>...</td>\n",
       "    </tr>\n",
       "    <tr>\n",
       "      <th>2021-10-28</th>\n",
       "      <td>0.716998</td>\n",
       "      <td>0.750503</td>\n",
       "      <td>-1.000997</td>\n",
       "      <td>-0.824185</td>\n",
       "      <td>0.063187</td>\n",
       "    </tr>\n",
       "    <tr>\n",
       "      <th>2021-10-29</th>\n",
       "      <td>0.716998</td>\n",
       "      <td>0.750485</td>\n",
       "      <td>-1.001067</td>\n",
       "      <td>-0.824185</td>\n",
       "      <td>0.063199</td>\n",
       "    </tr>\n",
       "    <tr>\n",
       "      <th>2021-10-30</th>\n",
       "      <td>0.716998</td>\n",
       "      <td>0.750472</td>\n",
       "      <td>-1.001136</td>\n",
       "      <td>-0.824185</td>\n",
       "      <td>0.063210</td>\n",
       "    </tr>\n",
       "    <tr>\n",
       "      <th>2021-10-31</th>\n",
       "      <td>0.716998</td>\n",
       "      <td>0.750459</td>\n",
       "      <td>-1.001206</td>\n",
       "      <td>-0.824185</td>\n",
       "      <td>0.063221</td>\n",
       "    </tr>\n",
       "    <tr>\n",
       "      <th>2021-11-01</th>\n",
       "      <td>0.716998</td>\n",
       "      <td>0.750450</td>\n",
       "      <td>-1.001275</td>\n",
       "      <td>-0.824185</td>\n",
       "      <td>0.064617</td>\n",
       "    </tr>\n",
       "  </tbody>\n",
       "</table>\n",
       "<p>1529 rows × 5 columns</p>\n",
       "</div>"
      ],
      "text/plain": [
       "             Actuals  LSTM Predictions  ARIMA Predictions  XGB Predictions  \\\n",
       "Date                                                                         \n",
       "2017-08-26 -0.894919         -0.862379          -0.894989        -0.824185   \n",
       "2017-08-27 -0.894919         -0.862378          -0.895058        -0.824185   \n",
       "2017-08-28 -0.894919         -0.862377          -0.895128        -0.824185   \n",
       "2017-08-29 -0.894919         -0.862376          -0.895197        -0.824185   \n",
       "2017-08-30 -0.894919         -0.862376          -0.895267        -0.824185   \n",
       "...              ...               ...                ...              ...   \n",
       "2021-10-28  0.716998          0.750503          -1.000997        -0.824185   \n",
       "2021-10-29  0.716998          0.750485          -1.001067        -0.824185   \n",
       "2021-10-30  0.716998          0.750472          -1.001136        -0.824185   \n",
       "2021-10-31  0.716998          0.750459          -1.001206        -0.824185   \n",
       "2021-11-01  0.716998          0.750450          -1.001275        -0.824185   \n",
       "\n",
       "            LR Predictions  \n",
       "Date                        \n",
       "2017-08-26        0.064427  \n",
       "2017-08-27        0.064438  \n",
       "2017-08-28        0.064449  \n",
       "2017-08-29        0.064461  \n",
       "2017-08-30        0.064472  \n",
       "...                    ...  \n",
       "2021-10-28        0.063187  \n",
       "2021-10-29        0.063199  \n",
       "2021-10-30        0.063210  \n",
       "2021-10-31        0.063221  \n",
       "2021-11-01        0.064617  \n",
       "\n",
       "[1529 rows x 5 columns]"
      ]
     },
     "execution_count": 56,
     "metadata": {},
     "output_type": "execute_result"
    }
   ],
   "source": [
    "res = pd.DataFrame(index = df_lstm[-Y_pred_arima.shape[0]:].index ,\n",
    "                   data = {'Actuals' : Y_test_lstm[-Y_pred_arima.shape[0]:].flatten() , \n",
    "                           'LSTM Predictions' : test_predictions[-Y_pred_arima.shape[0]:].flatten() ,\n",
    "                           'ARIMA Predictions' : Y_pred_arima.flatten() ,\n",
    "                           'XGB Predictions' : Y_pred_xgb.flatten() ,\n",
    "                           'LR Predictions' : Y_pred_lr.flatten()})\n",
    "res"
   ]
  },
  {
   "cell_type": "code",
   "execution_count": 57,
   "metadata": {
    "execution": {
     "iopub.status.busy": "2025-01-12T21:24:43.099421Z",
     "iopub.status.idle": "2025-01-12T21:24:43.100056Z",
     "shell.execute_reply": "2025-01-12T21:24:43.099762Z",
     "shell.execute_reply.started": "2025-01-12T21:24:43.099735Z"
    },
    "trusted": true
   },
   "outputs": [
    {
     "data": {
      "image/png": "[encoded data removed]",
      "text/plain": [
       "<Figure size 640x480 with 4 Axes>"
      ]
     },
     "metadata": {},
     "output_type": "display_data"
    }
   ],
   "source": [
    "# Create a figure and subplots\n",
    "fig , axes = plt.subplots(2 , 2)\n",
    "\n",
    "# subplot in the first row, first column\n",
    "axes[0, 0].plot(df.index[cut_off:], Y_test_lr, color='orange', label='X_test')\n",
    "axes[0, 0].plot(df.index[cut_off:], Y_pred_lr, color='black', label='Prediction') \n",
    "# subplot in the first row, second column\n",
    "axes[0, 1].plot(df.index[cut_off:] , Y_test_xgb , color='blue', label='X_test')\n",
    "axes[0, 1].plot(df.index[cut_off:] , Y_pred_xgb , color='orange', label='Prediction')\n",
    "# subplot in the second row, first column\n",
    "axes[1, 0].plot(df.index[cut_off:] , Y_test_arima , color='blue', label='X_test')\n",
    "axes[1, 0].plot(df.index[cut_off:] , Y_pred_arima , color='orange', label='Prediction')\n",
    "# subplot in the second row, second column\n",
    "axes[1, 1].plot(test_results['Test Predictions'])\n",
    "axes[1, 1].plot(test_results['Actuals'])\n",
    "\n",
    "# You can add titles to each subplot if desired\n",
    "axes[0, 0].set_title('Linear Regression')\n",
    "axes[0, 1].set_title('XGB Boost')\n",
    "axes[1, 0].set_title('ARIMA')\n",
    "axes[1, 1].set_title('LSTM')\n",
    "\n",
    "# Adjust the layout to avoid overlapping subplots\n",
    "plt.tight_layout()\n",
    "\n",
    "# Show the figure\n",
    "plt.show()"
   ]
  },
  {
   "cell_type": "code",
   "execution_count": 58,
   "metadata": {
    "execution": {
     "iopub.status.busy": "2025-01-12T21:24:43.101319Z",
     "iopub.status.idle": "2025-01-12T21:24:43.102048Z",
     "shell.execute_reply": "2025-01-12T21:24:43.101751Z",
     "shell.execute_reply.started": "2025-01-12T21:24:43.101724Z"
    },
    "trusted": true
   },
   "outputs": [
    {
     "data": {
      "text/html": [
       "<div>\n",
       "<style scoped>\n",
       "    .dataframe tbody tr th:only-of-type {\n",
       "        vertical-align: middle;\n",
       "    }\n",
       "\n",
       "    .dataframe tbody tr th {\n",
       "        vertical-align: top;\n",
       "    }\n",
       "\n",
       "    .dataframe thead th {\n",
       "        text-align: right;\n",
       "    }\n",
       "</style>\n",
       "<table border=\"1\" class=\"dataframe\">\n",
       "  <thead>\n",
       "    <tr style=\"text-align: right;\">\n",
       "      <th></th>\n",
       "      <th>Actuals</th>\n",
       "      <th>LSTM Predictions</th>\n",
       "      <th>ARIMA Predictions</th>\n",
       "      <th>XGB Predictions</th>\n",
       "      <th>LR Predictions</th>\n",
       "    </tr>\n",
       "    <tr>\n",
       "      <th>Date</th>\n",
       "      <th></th>\n",
       "      <th></th>\n",
       "      <th></th>\n",
       "      <th></th>\n",
       "      <th></th>\n",
       "    </tr>\n",
       "  </thead>\n",
       "  <tbody>\n",
       "    <tr>\n",
       "      <th>2017-08-26</th>\n",
       "      <td>-0.894919</td>\n",
       "      <td>-0.862379</td>\n",
       "      <td>-0.894989</td>\n",
       "      <td>-0.824185</td>\n",
       "      <td>0.064427</td>\n",
       "    </tr>\n",
       "    <tr>\n",
       "      <th>2017-08-27</th>\n",
       "      <td>-0.894919</td>\n",
       "      <td>-0.862378</td>\n",
       "      <td>-0.895058</td>\n",
       "      <td>-0.824185</td>\n",
       "      <td>0.064438</td>\n",
       "    </tr>\n",
       "    <tr>\n",
       "      <th>2017-08-28</th>\n",
       "      <td>-0.894919</td>\n",
       "      <td>-0.862377</td>\n",
       "      <td>-0.895128</td>\n",
       "      <td>-0.824185</td>\n",
       "      <td>0.064449</td>\n",
       "    </tr>\n",
       "    <tr>\n",
       "      <th>2017-08-29</th>\n",
       "      <td>-0.894919</td>\n",
       "      <td>-0.862376</td>\n",
       "      <td>-0.895197</td>\n",
       "      <td>-0.824185</td>\n",
       "      <td>0.064461</td>\n",
       "    </tr>\n",
       "    <tr>\n",
       "      <th>2017-08-30</th>\n",
       "      <td>-0.894919</td>\n",
       "      <td>-0.862376</td>\n",
       "      <td>-0.895267</td>\n",
       "      <td>-0.824185</td>\n",
       "      <td>0.064472</td>\n",
       "    </tr>\n",
       "  </tbody>\n",
       "</table>\n",
       "</div>"
      ],
      "text/plain": [
       "             Actuals  LSTM Predictions  ARIMA Predictions  XGB Predictions  \\\n",
       "Date                                                                         \n",
       "2017-08-26 -0.894919         -0.862379          -0.894989        -0.824185   \n",
       "2017-08-27 -0.894919         -0.862378          -0.895058        -0.824185   \n",
       "2017-08-28 -0.894919         -0.862377          -0.895128        -0.824185   \n",
       "2017-08-29 -0.894919         -0.862376          -0.895197        -0.824185   \n",
       "2017-08-30 -0.894919         -0.862376          -0.895267        -0.824185   \n",
       "\n",
       "            LR Predictions  \n",
       "Date                        \n",
       "2017-08-26        0.064427  \n",
       "2017-08-27        0.064438  \n",
       "2017-08-28        0.064449  \n",
       "2017-08-29        0.064461  \n",
       "2017-08-30        0.064472  "
      ]
     },
     "execution_count": 58,
     "metadata": {},
     "output_type": "execute_result"
    }
   ],
   "source": [
    "res.head()"
   ]
  },
  {
   "cell_type": "code",
   "execution_count": 59,
   "metadata": {
    "execution": {
     "iopub.status.busy": "2025-01-12T21:24:43.104795Z",
     "iopub.status.idle": "2025-01-12T21:24:43.105290Z",
     "shell.execute_reply": "2025-01-12T21:24:43.105122Z",
     "shell.execute_reply.started": "2025-01-12T21:24:43.105102Z"
    },
    "trusted": true
   },
   "outputs": [
    {
     "data": {
      "image/png": "[encoded data removed]",
      "text/plain": [
       "<Figure size 640x480 with 1 Axes>"
      ]
     },
     "metadata": {},
     "output_type": "display_data"
    }
   ],
   "source": [
    "# Create a figure and a single subplot\n",
    "fig, ax = plt.subplots()\n",
    "\n",
    "# Plot the true values and the predictions from each model\n",
    "ax.plot(res.index , res[\"Actuals\"] , color='orange', label='True values')\n",
    "ax.plot(res.index , res[\"LR Predictions\"] , color='black', label='Prediction - LR')\n",
    "ax.plot(res.index , res[\"XGB Predictions\"] , color='blue', label='Prediction - XGB')\n",
    "ax.plot(res.index , res[\"ARIMA Predictions\"] , color='green', label='Prediction - ARIMA')\n",
    "ax.plot(res.index , res[\"LSTM Predictions\"] , label='Prediction - LSTM')\n",
    "\n",
    "# Set the title and labels for the plot\n",
    "ax.set_title('True Values and Predictions')\n",
    "ax.set_xlabel('Index')\n",
    "ax.set_ylabel('Value')\n",
    "\n",
    "# Add a legend\n",
    "ax.legend()\n",
    "\n",
    "# Show the plot\n",
    "plt.show()"
   ]
  },
  {
   "cell_type": "code",
   "execution_count": 60,
   "metadata": {
    "execution": {
     "iopub.status.busy": "2025-01-12T21:24:43.106580Z",
     "iopub.status.idle": "2025-01-12T21:24:43.107016Z",
     "shell.execute_reply": "2025-01-12T21:24:43.106818Z",
     "shell.execute_reply.started": "2025-01-12T21:24:43.106800Z"
    },
    "trusted": true
   },
   "outputs": [],
   "source": [
    "temp = scaler.inverse_transform(df[\"Value\"].values.reshape(-1 , 1))"
   ]
  },
  {
   "cell_type": "code",
   "execution_count": 61,
   "metadata": {
    "execution": {
     "iopub.status.busy": "2025-01-12T21:24:43.108765Z",
     "iopub.status.idle": "2025-01-12T21:24:43.109192Z",
     "shell.execute_reply": "2025-01-12T21:24:43.109029Z",
     "shell.execute_reply.started": "2025-01-12T21:24:43.109011Z"
    },
    "trusted": true
   },
   "outputs": [
    {
     "data": {
      "image/png": "[encoded data removed]",
      "text/plain": [
       "<Figure size 640x480 with 1 Axes>"
      ]
     },
     "metadata": {},
     "output_type": "display_data"
    }
   ],
   "source": [
    "plt.plot(df.index[:cut_off] , temp[:cut_off] , color='blue', label='X_train')\n",
    "plt.plot(df.index[cut_off:] , temp[cut_off:] , color='red', label='X_test')\n",
    "#plt.plot(res.index , res[\"Actuals\"] , color='orange', label='True values')\n",
    "plt.plot(res.index , res[\"LR Predictions\"] , color='black', label='Prediction - LR')\n",
    "plt.plot(res.index , res[\"XGB Predictions\"] , color='purple', label='Prediction - XGB')\n",
    "plt.plot(res.index , res[\"ARIMA Predictions\"] , color='green', label='Prediction - ARIMA')\n",
    "plt.plot(res.index , res[\"LSTM Predictions\"] , label='Prediction - LSTM')\n",
    "plt.xlabel('Time')\n",
    "plt.ylabel('Data')\n",
    "plt.title('X_train and X_test')\n",
    "plt.legend()\n",
    "plt.show()"
   ]
  },
  {
   "cell_type": "markdown",
   "metadata": {},
   "source": [
    "# **Resources**"
   ]
  },
  {
   "cell_type": "markdown",
   "metadata": {},
   "source": [
    "**Any improvements are highly appreciated.**"
   ]
  },
  {
   "cell_type": "code",
   "execution_count": 62,
   "metadata": {
    "execution": {
     "iopub.status.busy": "2025-01-12T21:24:43.110601Z",
     "iopub.status.idle": "2025-01-12T21:24:43.111033Z",
     "shell.execute_reply": "2025-01-12T21:24:43.110826Z",
     "shell.execute_reply.started": "2025-01-12T21:24:43.110810Z"
    },
    "trusted": true
   },
   "outputs": [],
   "source": [
    "#https://www.kaggle.com/code/abdallahwagih/gold-price-forecasting\n",
    "#https://www.youtube.com/watch?v=c0k-YLQGKjY"
   ]
  }
 ],
 "metadata": {
  "kaggle": {
   "accelerator": "none",
   "dataSources": [
    {
     "datasetId": 984101,
     "sourceId": 1662120,
     "sourceType": "datasetVersion"
    }
   ],
   "dockerImageVersionId": 30513,
   "isGpuEnabled": false,
   "isInternetEnabled": false,
   "language": "python",
   "sourceType": "notebook"
  },
  "kernelspec": {
   "display_name": "Python 3",
   "language": "python",
   "name": "python3"
  },
  "language_info": {
   "codemirror_mode": {
    "name": "ipython",
    "version": 3
   },
   "file_extension": ".py",
   "mimetype": "text/x-python",
   "name": "python",
   "nbconvert_exporter": "python",
   "pygments_lexer": "ipython3",
   "version": "3.10.16"
  }
 },
 "nbformat": 4,
 "nbformat_minor": 4
}
